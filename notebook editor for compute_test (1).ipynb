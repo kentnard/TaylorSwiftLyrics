{
 "cells": [
  {
   "cell_type": "code",
   "execution_count": 0,
   "metadata": {},
   "outputs": [],
   "source": [
    "# -*- coding: utf-8 -*-\n",
    "from bs4 import BeautifulSoup\n",
    "import re\n",
    "import lyricsgenius\n",
    "import requests\n",
    "#import api_key\n",
    "from pathlib import Path\n",
    "import pandas as pd\n",
    "import time\n",
    "from datetime import datetime\n",
    "import xlsxwriter\n",
    "import os\n",
    "import dataiku"
   ]
  },
  {
   "cell_type": "code",
   "execution_count": 0,
   "metadata": {},
   "outputs": [],
   "source": [
    "client_access_token = \"Mq5jqnkXjNX5A2fJF-j93_nVigeWhuSk8N4o2Necuz5ZskWOn7PSYTOhpest1Gc7\"\n",
    "LyricsGenius = lyricsgenius.Genius(client_access_token)"
   ]
  },
  {
   "cell_type": "code",
   "execution_count": 0,
   "metadata": {},
   "outputs": [],
   "source": [
    "artist = \"Taylor Swift\"\n",
    "artist = artist.replace(\" \", \"-\")\n",
    "artist"
   ]
  },
  {
   "cell_type": "markdown",
   "metadata": {},
   "source": [
    "# For one album"
   ]
  },
  {
   "cell_type": "code",
   "execution_count": 0,
   "metadata": {},
   "outputs": [],
   "source": [
    "album_name_original = \"Fearless (Taylor's Version)\""
   ]
  },
  {
   "cell_type": "code",
   "execution_count": 0,
   "metadata": {},
   "outputs": [],
   "source": [
    "def clean_up(song_title):\n",
    "    #if \"\\u200b\" in song_title :\n",
    "        #song_title = re.sub(r\"\\u200b\", \"\", song_title)\n",
    "\n",
    "    if \"Ft\" in song_title:\n",
    "        before_ft_pattern = re.compile(\".*(?=\\(Ft)\")\n",
    "        song_title_before_ft = before_ft_pattern.search(song_title).group(0)\n",
    "        clean_song_title = song_title_before_ft.strip()\n",
    "        clean_song_title = clean_song_title.replace(\"/\", \"-\")\n",
    "\n",
    "    else:\n",
    "        song_title_no_lyrics = song_title.replace(\"Lyrics\", \"\")\n",
    "        clean_song_title = song_title_no_lyrics.strip()\n",
    "        clean_song_title = clean_song_title.replace(\"/\", \"-\")\n",
    "\n",
    "    return clean_song_title"
   ]
  },
  {
   "cell_type": "code",
   "execution_count": 0,
   "metadata": {},
   "outputs": [],
   "source": [
    "def title_contains_weird_strings(song_title) :\n",
    "    pattern = r\"Reputation Magazine|\\[Poem\\]|\\[Prologue\\]|\\[Foreword\\]|\\[Liner Notes\\]\"\n",
    "    return True if re.search(pattern, song_title) else False"
   ]
  },
  {
   "cell_type": "code",
   "execution_count": 0,
   "metadata": {},
   "outputs": [],
   "source": [
    "def get_song_titles(album_name, artist) :\n",
    "    # Clean album name and artist\n",
    "    album_name = re.sub(r\"\\(Taylor's Version\\)\", \"taylors-version\", album_name)\n",
    "    album_name = re.sub(r\"[\\[\\]\\(\\)]\", \"\", album_name)\n",
    "    album_name = re.sub(r\" \", \"-\", album_name)\n",
    "\n",
    "    # Get the HTML page\n",
    "    URL = f\"https://genius.com/albums/{artist}/{album_name}\"\n",
    "    document = ''\n",
    "    while document == '' :\n",
    "        try :\n",
    "            response = requests.get(URL)\n",
    "            html_string = response.text\n",
    "            document = BeautifulSoup(html_string, \"html.parser\")\n",
    "            break\n",
    "        except :\n",
    "            print(\"Sleep now... Try connecting again\")\n",
    "            time.sleep(10)\n",
    "\n",
    "    # Extract song titles and clean them\n",
    "    song_title_tags = document.find_all(\"h3\", attrs={\"class\": \"chart_row-content-title\"})\n",
    "    song_titles = [song_title.text for song_title in song_title_tags]\n",
    "    song_titles_legit = [song_title for song_title in song_titles if not title_contains_weird_strings(song_title)]\n",
    "    return song_titles_legit"
   ]
  },
  {
   "cell_type": "code",
   "execution_count": 0,
   "metadata": {},
   "outputs": [],
   "source": [
    "def get_clean_song_titles(song_titles) :\n",
    "    clean_songs = []\n",
    "    for song_title in song_titles:\n",
    "        clean_song = clean_up(song_title)\n",
    "        clean_songs.append(clean_song)\n",
    "\n",
    "    return clean_songs"
   ]
  },
  {
   "cell_type": "code",
   "execution_count": 0,
   "metadata": {},
   "outputs": [],
   "source": [
    "song_titles = get_song_titles(\"reputation\", artist)\n",
    "song_titles"
   ]
  },
  {
   "cell_type": "code",
   "execution_count": 0,
   "metadata": {},
   "outputs": [],
   "source": [
    "clean_songs = get_clean_song_titles(song_titles)\n",
    "clean_songs"
   ]
  },
  {
   "cell_type": "code",
   "execution_count": 0,
   "metadata": {},
   "outputs": [],
   "source": [
    "def create_track_numbers(clean_songs) :\n",
    "    return [i for i in range(1, len(clean_songs)+1)]"
   ]
  },
  {
   "cell_type": "code",
   "execution_count": 0,
   "metadata": {},
   "outputs": [],
   "source": [
    "track_numbers = create_track_numbers(clean_songs)\n",
    "track_numbers"
   ]
  },
  {
   "cell_type": "code",
   "execution_count": 0,
   "metadata": {},
   "outputs": [],
   "source": [
    "def get_featured_artists(song_title):\n",
    "    if \"Ft\" in song_title :\n",
    "        song_title = re.sub(\"\\xa0\", \" \", song_title)\n",
    "        matched = re.findall(r\"\\(Ft\\.\\s*(.*?)\\)\", song_title)\n",
    "        featured_artist = matched[0]\n",
    "    else :\n",
    "        featured_artist = ''\n",
    "    return featured_artist"
   ]
  },
  {
   "cell_type": "code",
   "execution_count": 0,
   "metadata": {},
   "outputs": [],
   "source": [
    "def get_featured_artists_in_one_album(album_name, artist) :\n",
    "    song_titles = get_song_titles(album_name, artist)\n",
    "    featured_artists = []\n",
    "    for song_title in song_titles:\n",
    "        featured_artist = get_featured_artists(song_title)\n",
    "        featured_artists.append(featured_artist)\n",
    "\n",
    "    return featured_artists"
   ]
  },
  {
   "cell_type": "code",
   "execution_count": 0,
   "metadata": {},
   "outputs": [],
   "source": [
    "get_featured_artists_in_one_album(album_name_original, artist)"
   ]
  },
  {
   "cell_type": "code",
   "execution_count": 0,
   "metadata": {},
   "outputs": [],
   "source": [
    "df = pd.DataFrame(columns=['Album', 'Song Title', 'Track Number', 'Featured Artist(s)'])\n",
    "df['Song Title'] = clean_songs\n",
    "df['Track Number'] = track_numbers\n",
    "df['Featured Artist(s)'] = featured_artists\n",
    "df['Album'] = album_name_original\n",
    "\n",
    "df"
   ]
  },
  {
   "cell_type": "markdown",
   "metadata": {},
   "source": [
    "## One song"
   ]
  },
  {
   "cell_type": "code",
   "execution_count": 0,
   "metadata": {},
   "outputs": [],
   "source": [
    "song1 = clean_songs[0]\n",
    "song1"
   ]
  },
  {
   "cell_type": "code",
   "execution_count": 0,
   "metadata": {},
   "outputs": [],
   "source": [
    "song_dict =  LyricsGenius.search_song(title=song1, artist=artist, get_full_info=True).to_dict()\n",
    "song_dict"
   ]
  },
  {
   "cell_type": "code",
   "execution_count": 0,
   "metadata": {},
   "outputs": [],
   "source": [
    "# Get necessary info\n",
    "year = song_dict[\"release_date_components\"]['year']\n",
    "month = song_dict[\"release_date_components\"]['month']\n",
    "day = song_dict[\"release_date_components\"]['day']\n",
    "print(year, month, day)"
   ]
  },
  {
   "cell_type": "code",
   "execution_count": 0,
   "metadata": {},
   "outputs": [],
   "source": [
    "date_string = song_dict[\"release_date_for_display\"]\n",
    "parsed_date = datetime.strptime(date_string, \"%B %d, %Y\")\n",
    "release_date = parsed_date.strftime(\"%Y-%m-%d\")\n",
    "print(release_date)"
   ]
  },
  {
   "cell_type": "code",
   "execution_count": 0,
   "metadata": {},
   "outputs": [],
   "source": [
    "url = song_dict[\"url\"]\n",
    "url"
   ]
  },
  {
   "cell_type": "code",
   "execution_count": 0,
   "metadata": {},
   "outputs": [],
   "source": [
    "lyric = song_dict[\"lyrics\"]\n",
    "lyric"
   ]
  },
  {
   "cell_type": "markdown",
   "metadata": {},
   "source": [
    "## Accessing the complete site"
   ]
  },
  {
   "cell_type": "code",
   "execution_count": 0,
   "metadata": {},
   "outputs": [],
   "source": [
    "URL_one_song = url\n",
    "response2 = requests.get(URL_one_song)\n",
    "html_string2 = response2.text\n",
    "document2 = BeautifulSoup(html_string2, \"html.parser\")\n",
    "document2"
   ]
  },
  {
   "cell_type": "code",
   "execution_count": 0,
   "metadata": {},
   "outputs": [],
   "source": [
    "print(document2.prettify())"
   ]
  },
  {
   "cell_type": "code",
   "execution_count": 0,
   "metadata": {},
   "outputs": [],
   "source": [
    "song_info_tags = document2.find_all(\"div\", attrs={\"class\": \"SongInfo__Credit-nekw6x-3\"})\n",
    "print(len(song_info_tags))\n",
    "song_info_tags"
   ]
  },
  {
   "cell_type": "markdown",
   "metadata": {},
   "source": [
    "### Producers"
   ]
  },
  {
   "cell_type": "code",
   "execution_count": 0,
   "metadata": {},
   "outputs": [],
   "source": [
    "producers_tag = [tag for tag in song_info_tags if tag.find_all(\"div\", string=\"Produced By\")][0]\n",
    "producers_tag"
   ]
  },
  {
   "cell_type": "code",
   "execution_count": 0,
   "metadata": {},
   "outputs": [],
   "source": [
    "producer_names_tag = producers_tag.find_all(\"a\", attrs={\"class\": \"StyledLink-sc-3ea0mt-0\"})\n",
    "producer_names_tag"
   ]
  },
  {
   "cell_type": "code",
   "execution_count": 0,
   "metadata": {},
   "outputs": [],
   "source": [
    "producer_names = [producer.text for producer in producer_names_tag]\n",
    "producer_names"
   ]
  },
  {
   "cell_type": "markdown",
   "metadata": {},
   "source": [
    "### Writers"
   ]
  },
  {
   "cell_type": "code",
   "execution_count": 0,
   "metadata": {},
   "outputs": [],
   "source": [
    "writers_tag = [tag for tag in song_info_tags if tag.find_all(\"div\", string=\"Written By\")][0]\n",
    "writers_tag"
   ]
  },
  {
   "cell_type": "code",
   "execution_count": 0,
   "metadata": {},
   "outputs": [],
   "source": [
    "writer_names_tag = writers_tag.find_all(\"a\", attrs={\"class\": \"StyledLink-sc-3ea0mt-0\"})\n",
    "writer_names_tag"
   ]
  },
  {
   "cell_type": "code",
   "execution_count": 0,
   "metadata": {},
   "outputs": [],
   "source": [
    "writer_names = [writer.text for writer in writer_names_tag]\n",
    "writer_names"
   ]
  },
  {
   "cell_type": "markdown",
   "metadata": {},
   "source": [
    "### Backing vocals"
   ]
  },
  {
   "cell_type": "code",
   "execution_count": 0,
   "metadata": {},
   "outputs": [],
   "source": [
    "bg_vocals_tag = [tag for tag in song_info_tags if tag.find_all(\"div\", string=\"Background Vocals\")][0]\n",
    "bg_vocals_tag"
   ]
  },
  {
   "cell_type": "code",
   "execution_count": 0,
   "metadata": {},
   "outputs": [],
   "source": [
    "bg_vocal_names_tag = bg_vocals_tag.find_all(\"a\", attrs={\"class\": \"StyledLink-sc-3ea0mt-0\"})\n",
    "bg_vocal_names_tag"
   ]
  },
  {
   "cell_type": "code",
   "execution_count": 0,
   "metadata": {},
   "outputs": [],
   "source": [
    "bg_vocal_names = [bg_vocal.text for bg_vocal in bg_vocal_names_tag]\n",
    "bg_vocal_names"
   ]
  },
  {
   "cell_type": "markdown",
   "metadata": {},
   "source": [
    "## Def"
   ]
  },
  {
   "cell_type": "code",
   "execution_count": 0,
   "metadata": {},
   "outputs": [],
   "source": [
    "def clean_lyrics(lyrics) :\n",
    "    # Remove non-lyric part\n",
    "    lyrics_cleaned = re.search(r'\\sLyrics(.*?)\\d*Embed', lyrics, re.DOTALL).group(1)\n",
    "\n",
    "    # Remove the advertisement\n",
    "    lyrics_clean = re.sub(r\"See.*\\$.*You might also like\", '\\n', lyrics_cleaned)\n",
    "\n",
    "    return lyrics_clean"
   ]
  },
  {
   "cell_type": "code",
   "execution_count": 0,
   "metadata": {},
   "outputs": [],
   "source": [
    "def get_song_information(song_title, artist) :\n",
    "    song_dict = ''\n",
    "    while song_dict == '' :\n",
    "        try :\n",
    "            song_dict = LyricsGenius.search_song(title=song_title, artist=artist, get_full_info=True).to_dict()\n",
    "            break\n",
    "        except ConnectionError as e :\n",
    "            print(e)\n",
    "            print(\"Sleep now... Try connecting again\")\n",
    "            time.sleep(5)\n",
    "\n",
    "    release_year = song_dict[\"release_date_components\"]['year']\n",
    "    release_month = song_dict[\"release_date_components\"]['month']\n",
    "    release_day = song_dict[\"release_date_components\"]['day']\n",
    "\n",
    "    date_string = song_dict[\"release_date_for_display\"]\n",
    "    parsed_date = datetime.strptime(date_string, \"%B %d, %Y\")\n",
    "    release_date = parsed_date.strftime(\"%Y-%m-%d\")\n",
    "\n",
    "    url = song_dict[\"url\"]\n",
    "    lyrics = song_dict[\"lyrics\"]\n",
    "    return [release_date, release_year, release_month, release_day, url, clean_lyrics(lyrics)]"
   ]
  },
  {
   "cell_type": "code",
   "execution_count": 0,
   "metadata": {},
   "outputs": [],
   "source": [
    "def get_song_more_information(url_one_song) :\n",
    "\n",
    "    document = ''\n",
    "    while document == '' :\n",
    "        try :\n",
    "            response = requests.get(url_one_song)\n",
    "            html_string = response.text\n",
    "            document = BeautifulSoup(html_string, \"html.parser\")\n",
    "            break\n",
    "        except ConnectionError as e :\n",
    "            print(e)\n",
    "            print(\"Sleep now... Try connecting again\")\n",
    "            time.sleep(5)\n",
    "\n",
    "    song_info_tags = document.find_all(\"div\", attrs={\"class\": \"SongInfo__Credit-nekw6x-3\"})\n",
    "\n",
    "    # Get producers\n",
    "    producers_tag = [tag for tag in song_info_tags if tag.find_all(\"div\", string=\"Produced By\")][0]\n",
    "    producer_names_tag = producers_tag.find_all(\"a\", attrs={\"class\": \"StyledLink-sc-3ea0mt-0\"})\n",
    "    producer_names = [producer.text for producer in producer_names_tag]\n",
    "\n",
    "    # Get writers\n",
    "    writers_tag = [tag for tag in song_info_tags if tag.find_all(\"div\", string=\"Written By\")][0]\n",
    "    writer_names_tag = writers_tag.find_all(\"a\", attrs={\"class\": \"StyledLink-sc-3ea0mt-0\"})\n",
    "    writer_names = [writer.text for writer in writer_names_tag]\n",
    "\n",
    "    # Get background vocals\n",
    "    try :\n",
    "        bg_vocals_tag = [tag for tag in song_info_tags if tag.find_all(\"div\", string=\"Background Vocals\")][0]\n",
    "        bg_vocal_names_tag = bg_vocals_tag.find_all(\"a\", attrs={\"class\": \"StyledLink-sc-3ea0mt-0\"})\n",
    "        bg_vocal_names = [bg_vocal.text for bg_vocal in bg_vocal_names_tag]\n",
    "    except :\n",
    "        bg_vocal_names = ''\n",
    "    return [producer_names, writer_names, bg_vocal_names]"
   ]
  },
  {
   "cell_type": "code",
   "execution_count": 0,
   "metadata": {},
   "outputs": [],
   "source": [
    "def get_additional_info(clean_songs) :\n",
    "    df_info = pd.DataFrame(columns=['Release Date', 'Release Year', 'Release Month', 'Release Day', 'URL',\n",
    "                                    'Lyrics', 'Producer(s)', 'Writer(s)', 'Background Vocal(s)'])\n",
    "    for song in clean_songs :\n",
    "        info1 = get_song_information(song, artist)\n",
    "        url = info1[4]\n",
    "        info2 = get_song_more_information(url)\n",
    "        new_data = info1 + info2\n",
    "\n",
    "        df_info.loc[len(df_info)] = new_data\n",
    "\n",
    "    return df_info"
   ]
  },
  {
   "cell_type": "code",
   "execution_count": 0,
   "metadata": {},
   "outputs": [],
   "source": [
    "get_additional_info(clean_songs)"
   ]
  },
  {
   "cell_type": "code",
   "execution_count": 0,
   "metadata": {},
   "outputs": [],
   "source": [
    "df_complete = pd.concat([df, df_info], axis=1)\n",
    "df_complete"
   ]
  },
  {
   "cell_type": "markdown",
   "metadata": {},
   "source": [
    "# Loop all albums"
   ]
  },
  {
   "cell_type": "code",
   "execution_count": 0,
   "metadata": {},
   "outputs": [],
   "source": [
    "artist_id = \"1177\" # Artist ID of Taylor Swift\n",
    "\n",
    "all_album_names = []\n",
    "for page in range(1, 10) :\n",
    "    album_list = LyricsGenius.artist_albums(\"1177\", per_page=50, page=page)['albums']\n",
    "    for album_dict in album_list :\n",
    "        all_album_names.append(album_dict['name'])\n",
    "\n",
    "all_album_names"
   ]
  },
  {
   "cell_type": "code",
   "execution_count": 0,
   "metadata": {},
   "outputs": [],
   "source": [
    "album_names_used = [\"Taylor Swift\",\n",
    "                    \"Fearless (Taylor's Version)\",\n",
    "                    \"Speak Now (Taylor's Version)\",\n",
    "                    \"Red (Taylor's Version)\",\n",
    "                    \"1989 (Taylor's Version) [Deluxe]\",\n",
    "                    \"reputation\",\n",
    "                    \"Lover\",\n",
    "                    \"folklore (deluxe version)\",\n",
    "                    \"evermore (deluxe version)\",\n",
    "                    \"Midnights (The Til Dawn Edition)\",\n",
    "                    \"Midnights (The Late Night Edition)\", # Get \"You're Losing Me\"\n",
    "                    \"The More Red (Taylor's Version) Chapter\", # Get \"Safe & Sound\" and \"Eyes Open\"\n",
    "                    \"The More Fearless (Taylor's Version) Chapter\", # Get \"If This Was A Movie\"\n",
    "                    \"The More Lover Chapter\"#, # Get \"All Of The Girls You Loved Before\"\n",
    "                    #\"THE TORTURED POETS DEPARTMENT\" # When the album is released!\n",
    "                   ]"
   ]
  },
  {
   "cell_type": "code",
   "execution_count": 0,
   "metadata": {},
   "outputs": [],
   "source": [
    "def create_df_one_album(album, artist) :\n",
    "    # Get all songs from one album\n",
    "    song_titles = get_song_titles(album, artist)\n",
    "    clean_songs = get_clean_song_titles(song_titles)\n",
    "    featured_artists = get_featured_artists_in_one_album(album, artist)\n",
    "    track_numbers = create_track_numbers(clean_songs)\n",
    "\n",
    "    df = pd.DataFrame(columns=['Album', 'Song Title', 'Track Number', 'Featured Artist(s)'])\n",
    "    df['Song Title'] = clean_songs\n",
    "    df['Track Number'] = track_numbers\n",
    "    df['Featured Artist(s)'] = featured_artists\n",
    "    df['Album'] = album\n",
    "\n",
    "    # Enrich the information of the songs\n",
    "\n",
    "    df_info = get_additional_info(clean_songs)\n",
    "\n",
    "    if len(df) == len(df_info) :\n",
    "        df_complete = pd.concat([df, df_info], axis=1)\n",
    "    else :\n",
    "        print(f\"The information for the album {album} can't be created. Different lengths of data.\")\n",
    "\n",
    "    return df_complete"
   ]
  },
  {
   "cell_type": "code",
   "execution_count": 0,
   "metadata": {},
   "outputs": [],
   "source": [
    "create_df_one_album(\"Taylor Swift\", artist)"
   ]
  },
  {
   "cell_type": "code",
   "execution_count": 0,
   "metadata": {},
   "outputs": [],
   "source": [
    "create_df_one_album(\"Fearless (Taylor's Version)\", artist)"
   ]
  },
  {
   "cell_type": "code",
   "execution_count": 0,
   "metadata": {},
   "outputs": [],
   "source": [
    "create_df_one_album(\"Speak Now (Taylor's Version)\", artist)"
   ]
  },
  {
   "cell_type": "code",
   "execution_count": 0,
   "metadata": {},
   "outputs": [],
   "source": [
    "create_df_one_album(\"Red (Taylor's Version)\", artist)"
   ]
  },
  {
   "cell_type": "code",
   "execution_count": 0,
   "metadata": {},
   "outputs": [],
   "source": [
    "create_df_one_album(\"1989 (Taylor's Version) [Deluxe]\", artist)"
   ]
  },
  {
   "cell_type": "code",
   "execution_count": 0,
   "metadata": {},
   "outputs": [],
   "source": [
    "create_df_one_album(\"reputation\", artist)"
   ]
  },
  {
   "cell_type": "code",
   "execution_count": 0,
   "metadata": {},
   "outputs": [],
   "source": [
    "create_df_one_album(\"Lover\", artist)"
   ]
  },
  {
   "cell_type": "code",
   "execution_count": 0,
   "metadata": {},
   "outputs": [],
   "source": [
    "create_df_one_album(\"folklore (deluxe version)\", artist)"
   ]
  },
  {
   "cell_type": "code",
   "execution_count": 0,
   "metadata": {},
   "outputs": [],
   "source": [
    "create_df_one_album(\"evermore (deluxe version)\", artist)"
   ]
  },
  {
   "cell_type": "code",
   "execution_count": 0,
   "metadata": {},
   "outputs": [],
   "source": [
    "create_df_one_album(\"Midnights (The Til Dawn Edition)\", artist)"
   ]
  },
  {
   "cell_type": "code",
   "execution_count": 0,
   "metadata": {},
   "outputs": [],
   "source": [
    "create_df_one_album(\"Midnights (The Late Night Edition)\", artist)"
   ]
  },
  {
   "cell_type": "code",
   "execution_count": 0,
   "metadata": {},
   "outputs": [],
   "source": [
    "create_df_one_album(\"The More Red (Taylor's Version) Chapter\", artist)"
   ]
  },
  {
   "cell_type": "code",
   "execution_count": 0,
   "metadata": {},
   "outputs": [],
   "source": [
    "create_df_one_album(\"The More Fearless (Taylor's Version) Chapter\", artist)"
   ]
  },
  {
   "cell_type": "code",
   "execution_count": 0,
   "metadata": {},
   "outputs": [],
   "source": [
    "create_df_one_album(\"The More Lover Chapter\", artist)"
   ]
  },
  {
   "cell_type": "markdown",
   "metadata": {},
   "source": [
    "# Output"
   ]
  },
  {
   "cell_type": "code",
   "execution_count": 0,
   "metadata": {},
   "outputs": [],
   "source": [
    "# Write recipe outputs\n",
    "test = dataiku.Dataset(\"test\")\n",
    "test.write_with_schema(df_complete)"
   ]
  }
 ],
 "metadata": {
  "associatedRecipe": "compute_test",
  "createdOn": 1712146876869,
  "creationTag": {
   "extendedProperties": {},
   "lastModifiedBy": {
    "login": "KentnardS"
   },
   "lastModifiedOn": 1712146876869,
   "versionNumber": 0
  },
  "creator": "KentnardS",
  "customFields": {},
  "dkuGit": {
   "lastInteraction": 0
  },
  "hide_input": false,
  "kernelspec": {
   "display_name": "Python in eks-default (env Kentnard_web_crawling)",
   "language": "python",
   "name": "py-dku-containerized-venv-kentnard_web_crawling-eks-default"
  },
  "language_info": {
   "codemirror_mode": {
    "name": "ipython",
    "version": 3
   },
   "file_extension": ".py",
   "mimetype": "text/x-python",
   "name": "python",
   "nbconvert_exporter": "python",
   "pygments_lexer": "ipython3",
   "version": "3.9.18"
  },
  "modifiedBy": "KentnardS",
  "tags": [
   "recipe-editor"
  ],
  "toc": {
   "base_numbering": 1,
   "nav_menu": {},
   "number_sections": true,
   "sideBar": true,
   "skip_h1_title": false,
   "title_cell": "Table of Contents",
   "title_sidebar": "Contents",
   "toc_cell": false,
   "toc_position": {},
   "toc_section_display": true,
   "toc_window_display": false
  }
 },
 "nbformat": 4,
 "nbformat_minor": 1
}
