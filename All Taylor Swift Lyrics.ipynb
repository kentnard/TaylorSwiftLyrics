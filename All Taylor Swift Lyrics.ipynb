{
 "cells": [
  {
   "cell_type": "code",
   "execution_count": 1,
   "metadata": {},
   "outputs": [],
   "source": [
    "# 1. -*- coding: utf-8 -*-\n",
    "from bs4 import BeautifulSoup\n",
    "import lyricsgenius\n",
    "import requests\n",
    "import api_key\n",
    "\n",
    "import re\n",
    "import json\n",
    "from math import ceil, floor\n",
    "import pandas as pd\n",
    "import os\n",
    "\n",
    "\n",
    "from pathlib import Path\n",
    "import time\n",
    "from datetime import datetime\n",
    "import xlsxwriter"
   ]
  },
  {
   "cell_type": "code",
   "execution_count": 27,
   "metadata": {},
   "outputs": [],
   "source": [
    "client_access_token = api_key.my_api_key\n",
    "LyricsGenius = lyricsgenius.Genius(client_access_token)\n",
    "LyricsGenius.remove_section_headers = True\n",
    "headers = {\n",
    "    'User-Agent': 'Mozilla/5.0 (Windows NT 10.0; Win64; x64) AppleWebKit/537.36 (KHTML, like Gecko) Chrome/109.0.0.0 Safari/537.36',\n",
    "}"
   ]
  },
  {
   "cell_type": "code",
   "execution_count": 4,
   "metadata": {},
   "outputs": [
    {
     "data": {
      "text/plain": [
       "'Taylor-Swift'"
      ]
     },
     "execution_count": 4,
     "metadata": {},
     "output_type": "execute_result"
    }
   ],
   "source": [
    "artist = \"Taylor Swift\"\n",
    "artist = artist.replace(\" \", \"-\")\n",
    "artist"
   ]
  },
  {
   "attachments": {},
   "cell_type": "markdown",
   "metadata": {},
   "source": [
    "# Define all functions"
   ]
  },
  {
   "attachments": {},
   "cell_type": "markdown",
   "metadata": {},
   "source": [
    "## Get the cleaned song titles of an album"
   ]
  },
  {
   "cell_type": "code",
   "execution_count": 5,
   "metadata": {},
   "outputs": [],
   "source": [
    "def clean_up(song_title):\n",
    "    if \"Ft\" in song_title:\n",
    "        before_ft_pattern = re.compile(\".*(?=\\(Ft)\")\n",
    "        song_title_before_ft = before_ft_pattern.search(song_title).group(0)\n",
    "        clean_song_title = song_title_before_ft.strip()\n",
    "        clean_song_title = clean_song_title.replace(\"/\", \"-\")\n",
    "\n",
    "    else:\n",
    "        song_title_no_lyrics = song_title.replace(\"Lyrics\", \"\")\n",
    "        clean_song_title = song_title_no_lyrics.strip()\n",
    "        clean_song_title = clean_song_title.replace(\"/\", \"-\")\n",
    "\n",
    "    return clean_song_title"
   ]
  },
  {
   "cell_type": "code",
   "execution_count": 6,
   "metadata": {},
   "outputs": [],
   "source": [
    "def title_contains_weird_strings(song_title) :\n",
    "    pattern = r\"Reputation Magazine|\\[Poem\\]|\\[Prologue\\]|\\[Foreword\\]|\\[Liner Notes\\]\"\n",
    "    return True if re.search(pattern, song_title) else False"
   ]
  },
  {
   "cell_type": "code",
   "execution_count": 7,
   "metadata": {},
   "outputs": [],
   "source": [
    "def get_song_titles(album_name, artist) :\n",
    "    # Clean album name and artist\n",
    "    album_name = re.sub(r\"\\(Taylor's Version\\)\", \"taylors-version\", album_name)\n",
    "    album_name = re.sub(r\"[\\[\\]\\(\\)]\", \"\", album_name)\n",
    "    album_name = re.sub(r\" \", \"-\", album_name)\n",
    "\n",
    "    # Get the HTML page\n",
    "    URL = f\"https://genius.com/albums/{artist}/{album_name}\"\n",
    "    document = ''\n",
    "    while document == '' :\n",
    "        try :\n",
    "            response = requests.get(URL, headers=headers)\n",
    "            html_string = response.text\n",
    "            document = BeautifulSoup(html_string, \"html.parser\")\n",
    "            break\n",
    "        except :\n",
    "            print(\"Sleep now... Try connecting again\")\n",
    "            time.sleep(5)\n",
    "\n",
    "    # Extract song titles and clean them\n",
    "    song_title_tags = document.find_all(\"h3\", attrs={\"class\": \"chart_row-content-title\"})\n",
    "    song_titles = [song_title.text for song_title in song_title_tags]\n",
    "    song_titles_legit = [song_title for song_title in song_titles if not title_contains_weird_strings(song_title)]\n",
    "    return song_titles_legit"
   ]
  },
  {
   "cell_type": "code",
   "execution_count": 8,
   "metadata": {},
   "outputs": [],
   "source": [
    "def get_clean_song_titles(song_titles) :\n",
    "    clean_songs = []\n",
    "    for song_title in song_titles:\n",
    "        clean_song = clean_up(song_title)\n",
    "        clean_songs.append(clean_song)\n",
    "\n",
    "    return clean_songs"
   ]
  },
  {
   "attachments": {},
   "cell_type": "markdown",
   "metadata": {},
   "source": [
    "## Get the track numbers"
   ]
  },
  {
   "cell_type": "code",
   "execution_count": 9,
   "metadata": {},
   "outputs": [],
   "source": [
    "def create_track_numbers(clean_songs) :\n",
    "    return [i for i in range(1, len(clean_songs)+1)]"
   ]
  },
  {
   "attachments": {},
   "cell_type": "markdown",
   "metadata": {},
   "source": [
    "## Get featured artists of an album"
   ]
  },
  {
   "cell_type": "code",
   "execution_count": 10,
   "metadata": {},
   "outputs": [],
   "source": [
    "def get_featured_artists(song_title):\n",
    "    if \"Ft\" in song_title :\n",
    "        song_title = re.sub(\"\\xa0\", \" \", song_title)\n",
    "        matched = re.findall(r\"\\(Ft\\.\\s*(.*?)\\)\", song_title)\n",
    "        featured_artist = matched[0]\n",
    "    else :\n",
    "        featured_artist = ''\n",
    "    return featured_artist"
   ]
  },
  {
   "cell_type": "code",
   "execution_count": 11,
   "metadata": {},
   "outputs": [],
   "source": [
    "def get_featured_artists_in_one_album(album_name, artist) :\n",
    "    song_titles = get_song_titles(album_name, artist)\n",
    "    featured_artists = []\n",
    "    for song_title in song_titles:\n",
    "        featured_artist = get_featured_artists(song_title)\n",
    "        featured_artists.append(featured_artist)\n",
    "\n",
    "    return featured_artists"
   ]
  },
  {
   "attachments": {},
   "cell_type": "markdown",
   "metadata": {},
   "source": [
    "## Get additional information"
   ]
  },
  {
   "cell_type": "code",
   "execution_count": 12,
   "metadata": {},
   "outputs": [],
   "source": [
    "def clean_lyrics(lyrics) :\n",
    "    # Remove non-lyric part\n",
    "    lyrics_cleaned = re.search(r'\\sLyrics(.*?)\\d*Embed', lyrics, re.DOTALL).group(1)\n",
    "\n",
    "    # Remove the advertisement\n",
    "    lyrics_clean = re.sub(r\"See.*\\$.*You might also like\", '\\n', lyrics_cleaned)\n",
    "\n",
    "    # Remove the first \"\\n\" if available\n",
    "    if lyrics_clean.startswith(\"\\n\") : \n",
    "        return lyrics_clean.lstrip(\"\\n\")\n",
    "    else :\n",
    "        return lyrics_clean"
   ]
  },
  {
   "attachments": {},
   "cell_type": "markdown",
   "metadata": {},
   "source": [
    "### Get release date, url and cleaned lyrics"
   ]
  },
  {
   "cell_type": "code",
   "execution_count": 29,
   "metadata": {},
   "outputs": [],
   "source": [
    "def get_song_information(song_title, artist) :\n",
    "    song_dict = ''\n",
    "    while song_dict == '' :\n",
    "        try :\n",
    "            song_dict = LyricsGenius.search_song(title=song_title, artist=artist, get_full_info=True).to_dict()\n",
    "            break\n",
    "        except TimeoutError as e :\n",
    "            print(e)\n",
    "            print(\"Sleep now... Try connecting again\")\n",
    "            time.sleep(5)\n",
    "\n",
    "    release_year = song_dict[\"release_date_components\"]['year']\n",
    "    release_month = song_dict[\"release_date_components\"]['month']\n",
    "    release_day = song_dict[\"release_date_components\"]['day']\n",
    "\n",
    "    date_string = song_dict[\"release_date_for_display\"]\n",
    "    parsed_date = datetime.strptime(date_string, \"%B %d, %Y\")\n",
    "    release_date = parsed_date.strftime(\"%Y-%m-%d\")\n",
    "\n",
    "    url = song_dict[\"url\"]\n",
    "    song_id = song_dict[\"id\"]\n",
    "    lyrics = song_dict[\"lyrics\"]\n",
    "    return [release_date, release_year, release_month, release_day, url, song_id, clean_lyrics(lyrics)]"
   ]
  },
  {
   "attachments": {},
   "cell_type": "markdown",
   "metadata": {},
   "source": [
    "### Get producers, writers and background vocals"
   ]
  },
  {
   "cell_type": "code",
   "execution_count": 30,
   "metadata": {},
   "outputs": [],
   "source": [
    "def get_song_more_information(url_one_song) :\n",
    "    document = ''\n",
    "    while document == '' :\n",
    "        try :\n",
    "            response = requests.get(url_one_song, headers=headers)\n",
    "            html_string = response.text\n",
    "            document = BeautifulSoup(html_string, \"html.parser\")\n",
    "            break\n",
    "        except TimeoutError as e :\n",
    "            print(e)\n",
    "            print(\"Sleep now... Try connecting again\")\n",
    "            time.sleep(5)\n",
    "\n",
    "    song_info_tags = document.find_all(\"div\", attrs={\"class\": \"SongInfo__Credit-nekw6x-3\"})\n",
    "\n",
    "    # Get producers\n",
    "    producers_tag = [tag for tag in song_info_tags if tag.find_all(\"div\", string=\"Produced By\")][0]\n",
    "    producer_names_tag = producers_tag.find_all(\"a\", attrs={\"class\": \"StyledLink-sc-3ea0mt-0\"})\n",
    "    producer_names = [producer.text for producer in producer_names_tag]\n",
    "\n",
    "    # Get writers\n",
    "    writers_tag = [tag for tag in song_info_tags if tag.find_all(\"div\", string=\"Written By\")][0]\n",
    "    writer_names_tag = writers_tag.find_all(\"a\", attrs={\"class\": \"StyledLink-sc-3ea0mt-0\"})\n",
    "    writer_names = [writer.text for writer in writer_names_tag]\n",
    "\n",
    "    # Get background vocals\n",
    "    try :\n",
    "        bg_vocals_tag = [tag for tag in song_info_tags if tag.find_all(\"div\", string=\"Background Vocals\")][0]\n",
    "        bg_vocal_names_tag = bg_vocals_tag.find_all(\"a\", attrs={\"class\": \"StyledLink-sc-3ea0mt-0\"})\n",
    "        bg_vocal_names = [bg_vocal.text for bg_vocal in bg_vocal_names_tag]\n",
    "    except :\n",
    "        bg_vocal_names = ''\n",
    "    return [producer_names, writer_names, bg_vocal_names]"
   ]
  },
  {
   "cell_type": "markdown",
   "metadata": {},
   "source": [
    "### Get song length"
   ]
  },
  {
   "cell_type": "code",
   "execution_count": 31,
   "metadata": {},
   "outputs": [],
   "source": [
    "def get_song_length(song_id) :\n",
    "    url = f\"https://genius.com/songs/{song_id}/apple_music_player?react=1\"\n",
    "    document = ''\n",
    "    while document == '' :\n",
    "        try :\n",
    "            response = requests.get(url, headers=headers)\n",
    "            html_string = response.text\n",
    "            document = BeautifulSoup(html_string, \"html.parser\")\n",
    "            break\n",
    "        except TimeoutError as e :\n",
    "            print(e)\n",
    "            print(\"Sleep now... Try connecting again\")\n",
    "            time.sleep(5)\n",
    "            \n",
    "    apple_music_player_tag = document.find(\"apple-music-player\")\n",
    "    attributes = apple_music_player_tag.attrs\n",
    "    track_preview = json.loads(attributes[\"preview_track\"])\n",
    "    \n",
    "    # Get the duration\n",
    "    duration_seconds = floor(track_preview[\"duration\"])\n",
    "    duration_min_sec = f\"{duration_seconds // 60} minutes {duration_seconds % 60} seconds\"\n",
    "    \n",
    "    return [duration_seconds, duration_min_sec]"
   ]
  },
  {
   "attachments": {},
   "cell_type": "markdown",
   "metadata": {},
   "source": [
    "### Combine new informations"
   ]
  },
  {
   "cell_type": "code",
   "execution_count": 16,
   "metadata": {},
   "outputs": [],
   "source": [
    "def get_additional_info(clean_songs) :\n",
    "    df_info = pd.DataFrame(columns=['Release Date', 'Release Year', 'Release Month', 'Release Day', 'URL',\n",
    "                                    'Song_ID', 'Lyrics', 'Song Length (sec)', 'Song Length (min)',\n",
    "                                    'Producer(s)', 'Writer(s)', 'Background Vocal(s)'])\n",
    "    for song in clean_songs :\n",
    "        info1 = get_song_information(song, artist) # Release Date - Lyrics\n",
    "        url = info1[4]\n",
    "        song_id = info1[5]\n",
    "        info2 = get_song_length(song_id) # Song Length (sec) - Song Length (min)\n",
    "        info3 = get_song_more_information(url) # Producer(s) - Background Vocal(s)\n",
    "        \n",
    "        new_data = info1 + info2 + info3\n",
    "\n",
    "        df_info.loc[len(df_info)] = new_data\n",
    "\n",
    "    return df_info"
   ]
  },
  {
   "attachments": {},
   "cell_type": "markdown",
   "metadata": {},
   "source": [
    "# Loop all albums"
   ]
  },
  {
   "attachments": {},
   "cell_type": "markdown",
   "metadata": {},
   "source": [
    "## Get all album names"
   ]
  },
  {
   "cell_type": "code",
   "execution_count": 17,
   "metadata": {},
   "outputs": [
    {
     "data": {
      "text/plain": [
       "['THE TORTURED POETS DEPARTMENT + Bonus Track “The Bolter”',\n",
       " 'THE TORTURED POETS DEPARTMENT + Bonus Track “The Albatross”',\n",
       " 'THE TORTURED POETS DEPARTMENT (Physical Version)',\n",
       " 'THE TORTURED POETS DEPARTMENT',\n",
       " 'THE TORTURED POETS DEPARTMENT + Bonus Track ”The Black Dog”',\n",
       " '1989 (Taylor’s Version) [Webstore Deluxe]',\n",
       " '1989 (Taylor’s Version) [Tangerine Edition]',\n",
       " '1989 (Taylor’s Version) [Deluxe]',\n",
       " '1989 (Taylor’s Version)',\n",
       " 'The Cruelest Summer',\n",
       " 'Speak Now (Taylor’s Version) [Digital Deluxe]',\n",
       " 'Speak Now (Taylor’s Version)',\n",
       " 'Midnights (The Til Dawn Edition)',\n",
       " 'Midnights (The Late Night Edition)',\n",
       " 'folklore: the long pond studio sessions (Record Store Day Exclusive)',\n",
       " 'The More Lover Chapter',\n",
       " 'The More Fearless (Taylor’s Version) Chapter',\n",
       " 'The More Red (Taylor’s Version) Chapter',\n",
       " 'Lavender Haze (Remixes)',\n",
       " 'Lover (Live From Paris) Heart Shaped Vinyl',\n",
       " 'Anti-Hero (Remixes) ',\n",
       " 'Midnights (Target Exclusive)',\n",
       " 'Midnights (3am Edition)',\n",
       " 'Midnights (Apple Music Exclusive) ',\n",
       " 'Midnights',\n",
       " 'Carolina (From The Motion Picture “Where The Crawdads Sing”)',\n",
       " 'All Too Well (10 Minute Version) [The Short Film] - EP',\n",
       " 'the lakes - 7\" Single (Record Store Day Exclusive)',\n",
       " 'Red (Taylor’s Version): From The Vault Chapter ',\n",
       " 'Red (Taylor’s Version): The Slow Motion Chapter ',\n",
       " 'Message In A Bottle (Fat Max G Remix) (Taylor’s Version) ',\n",
       " 'Red (Taylor’s Version): She Wrote A Song About Me Chapter',\n",
       " 'Red (Taylor’s Version): Could You Be The One Chapter',\n",
       " 'Red (Taylor’s Version)',\n",
       " 'evermore (digitally autographed fan edition)',\n",
       " 'Fearless (Taylor’s Version): The From the Vault Chapter',\n",
       " 'Fearless (Taylor’s Version): The I Remember What You Said Last Night Chapter',\n",
       " 'Fearless (Taylor’s Version): The Kissing In The Rain Chapter',\n",
       " 'Fearless (Taylor’s Version): The Halfway Out the Door Chapter',\n",
       " 'Fearless (Taylor’s Version)',\n",
       " 'the “ladies lunching” chapter',\n",
       " 'the “forever is the sweetest con” chapter',\n",
       " 'the “dropped your hand while dancing” chapter',\n",
       " 'evermore (deluxe version)',\n",
       " 'evermore (Japanese Edition)',\n",
       " 'willow (the witch collection)',\n",
       " 'evermore',\n",
       " 'Christmas Tree Farm - 12” Single Picture Disc',\n",
       " 'folklore: the long pond studio sessions (from the Disney+ special) [deluxe edition]',\n",
       " 'folklore: the long pond studio sessions (from the Disney+ special)',\n",
       " 'cardigan + songwriting voice memo - Single',\n",
       " 'folklore: the yeah I showed up at your party chapter',\n",
       " 'folklore: the saltbox house chapter',\n",
       " 'folklore: the sleepless nights chapter ',\n",
       " 'folklore: the escapism chapter',\n",
       " 'folklore (deluxe version)',\n",
       " 'cardigan (cabin in candlelight version) - Single',\n",
       " 'folklore',\n",
       " 'Live from Paris',\n",
       " 'Our Song (7\" Single)',\n",
       " 'Lover (Target Exclusive/Japanese Edition)',\n",
       " 'Lover',\n",
       " 'Fearless (Big Machine Radio Release Special)',\n",
       " 'Speak Now (Big Machine Radio Release Special)',\n",
       " 'reputation Stadium Tour Surprise Song Playlist ',\n",
       " 'Spotify Singles',\n",
       " 'reputation',\n",
       " '1989',\n",
       " '1989 (Deluxe)',\n",
       " 'Red (Deluxe Version)',\n",
       " 'Red',\n",
       " 'Speak Now: World Tour Live (Brazilian Edition)',\n",
       " 'Speak Now: World Tour Live',\n",
       " 'Speak Now: World Tour Live (Deluxe)',\n",
       " 'iTunes Essentials',\n",
       " 'Speak Now (Deluxe)',\n",
       " 'Speak Now',\n",
       " 'Fearless (Platinum Edition)',\n",
       " 'Fifteen - Single',\n",
       " 'Fearless (International Version)',\n",
       " 'Love Story [UK CD Single] ',\n",
       " 'Fearless (Japanese Edition)',\n",
       " 'Fearless',\n",
       " 'Love Story - Single',\n",
       " 'Beautiful Eyes - EP',\n",
       " 'Live From Clear Channel Stripped 2008 ',\n",
       " 'Live from SoHo - EP',\n",
       " 'Taylor Swift (Deluxe)',\n",
       " 'Rhapsody Originals (Rhapsody exclusive)',\n",
       " 'The Taylor Swift Holiday Collection - EP',\n",
       " 'Teardrops On My Guitar - EP',\n",
       " 'Taylor Swift (Best Buy Exclusive) ',\n",
       " 'Napster Live (Napster Exclusive) ',\n",
       " 'Taylor Swift-Taylor Swift (deluxe album) (,,polskie tłumaczenie”)',\n",
       " 'Taylor Swift',\n",
       " '2004 Demo CD (Three Songs)',\n",
       " '2004–2005 Demo CD',\n",
       " '2004 Demo CD',\n",
       " 'Lucky You Demo CD',\n",
       " '“Taylor’s Songs” 2003 Demo',\n",
       " 'Vol. 2 Demo CD',\n",
       " '2003 Demo CD',\n",
       " '2003 Demo',\n",
       " '2002 Demo CD',\n",
       " 'Taylor Swift (Taylor’s Version)*',\n",
       " 'reputation (Taylor’s Version)*',\n",
       " 'Demo CD (Covers)']"
      ]
     },
     "execution_count": 17,
     "metadata": {},
     "output_type": "execute_result"
    }
   ],
   "source": [
    "artist_id = \"1177\" # Artist ID of Taylor Swift\n",
    "\n",
    "all_album_names = []\n",
    "for page in range(1, 10) :\n",
    "    album_list = LyricsGenius.artist_albums(\"1177\", per_page=50, page=page)['albums']\n",
    "    for album_dict in album_list :\n",
    "        all_album_names.append(album_dict['name'])\n",
    "\n",
    "all_album_names"
   ]
  },
  {
   "cell_type": "code",
   "execution_count": 18,
   "metadata": {},
   "outputs": [],
   "source": [
    "# Only select relevant albums\n",
    "album_names_used = [\"Taylor Swift\",\n",
    "                    \"Fearless (Taylor's Version)\",\n",
    "                    \"Speak Now (Taylor's Version)\",\n",
    "                    \"Red (Taylor's Version)\",\n",
    "                    \"1989 (Taylor's Version) [Deluxe]\",\n",
    "                    \"reputation\",\n",
    "                    \"Lover\",\n",
    "                    \"folklore (deluxe version)\",\n",
    "                    \"evermore (deluxe version)\",\n",
    "                    \"Midnights (The Til Dawn Edition)\",\n",
    "                    \"Midnights (The Late Night Edition)\", # Get \"You're Losing Me\"\n",
    "                    \"The More Red (Taylor's Version) Chapter\", # Get \"Safe & Sound\" and \"Eyes Open\"\n",
    "                    \"The More Fearless (Taylor's Version) Chapter\", # Get \"If This Was A Movie\"\n",
    "                    \"The More Lover Chapter\"#, # Get \"All Of The Girls You Loved Before\"\n",
    "                    #\"THE TORTURED POETS DEPARTMENT\" # When the album is released!\n",
    "                   ]"
   ]
  },
  {
   "cell_type": "code",
   "execution_count": 19,
   "metadata": {},
   "outputs": [],
   "source": [
    "def clean_album_name(album) : \n",
    "    album = re.sub(r\"[\\(\\)'\\[\\]]\", \"\", album)\n",
    "    album = re.sub(r\" \", \"-\", album)\n",
    "    return album"
   ]
  },
  {
   "cell_type": "markdown",
   "metadata": {},
   "source": [
    "## Create directory paths"
   ]
  },
  {
   "cell_type": "code",
   "execution_count": 38,
   "metadata": {},
   "outputs": [],
   "source": [
    "for album_name in album_names_used : \n",
    "    album = clean_album_name(album_name)\n",
    "    directory_path = f\"{artist}_{album}\"\n",
    "    \n",
    "    if not os.path.exists(directory_path) : \n",
    "        os.makedirs(directory_path)"
   ]
  },
  {
   "cell_type": "markdown",
   "metadata": {},
   "source": [
    "## Create .txt file"
   ]
  },
  {
   "cell_type": "code",
   "execution_count": 39,
   "metadata": {},
   "outputs": [],
   "source": [
    "def create_txt_file(album, artist) : \n",
    "    # Get all songs from one album\n",
    "    song_titles = get_song_titles(album, artist)\n",
    "    clean_songs = get_clean_song_titles(song_titles)\n",
    "    album_name = clean_album_name(album)\n",
    "    \n",
    "    for index, song in enumerate(clean_songs) : \n",
    "        file_path = f\"{artist}_{album_name}/{song}\"\n",
    "        song_object = LyricsGenius.search_song(song, artist)\n",
    "        lyrics = song_object.to_dict()[\"lyrics\"]\n",
    "        cleaned_lyrics = clean_lyrics(lyrics)\n",
    "        \n",
    "        if \"\\\"\" in song :\n",
    "            song = re.sub(r\"\\\"\", \"\\'\", song)\n",
    "        \n",
    "        if \"?\" in song : \n",
    "            song = re.sub(r\"\\?\", \"\", song)\n",
    "        \n",
    "        with open(f\"{directory_path}/{index+1}. {song}.txt\", \"w\") as f :\n",
    "            f.write(cleaned_lyrics)\n",
    "            print(f\"Finished writing {song}.txt\\n\")\n",
    "    print(f\"Finished writing all songs in the album {album} into .txt files\")"
   ]
  },
  {
   "cell_type": "code",
   "execution_count": 32,
   "metadata": {},
   "outputs": [
    {
     "name": "stdout",
     "output_type": "stream",
     "text": [
      "Searching for \"Cruel Summer\" by Taylor-Swift...\n",
      "Done.\n",
      "Finished writing Cruel Summer.txt\n",
      "\n",
      "Searching for \"Lover\" by Taylor-Swift...\n",
      "Done.\n",
      "Finished writing Lover.txt\n",
      "\n",
      "Searching for \"The Man\" by Taylor-Swift...\n",
      "Done.\n",
      "Finished writing The Man.txt\n",
      "\n",
      "Searching for \"The Archer\" by Taylor-Swift...\n",
      "Done.\n",
      "Finished writing The Archer.txt\n",
      "\n",
      "Searching for \"All Of The Girls You Loved Before\" by Taylor-Swift...\n",
      "Done.\n",
      "Finished writing All Of The Girls You Loved Before.txt\n",
      "\n",
      "Finished writing all songs in the album The More Lover Chapter into .txt files\n"
     ]
    }
   ],
   "source": [
    "# Create .txt files. Please do it separately to avoid ConnectionError!\n",
    "\n",
    "# create_txt_file(\"Taylor Swift\", artist)\n",
    "# create_txt_file(\"Fearless (Taylor's Version)\", artist)\n",
    "# create_txt_file(\"Speak Now (Taylor's Version)\", artist)\n",
    "# create_txt_file(\"Red (Taylor's Version)\", artist)\n",
    "# create_txt_file(\"1989 (Taylor's Version) [Deluxe]\", artist)\n",
    "# create_txt_file(\"reputation\", artist)\n",
    "# create_txt_file(\"Lover\", artist)\n",
    "# create_txt_file(\"folklore (deluxe version)\", artist)\n",
    "# create_txt_file(\"evermore (deluxe version)\", artist)\n",
    "# create_txt_file(\"Midnights (The Til Dawn Edition)\", artist)\n",
    "# create_txt_file(\"Midnights (The Late Night Edition)\", artist)\n",
    "# create_txt_file(\"The More Red (Taylor's Version) Chapter\", artist)\n",
    "# create_txt_file(\"The More Fearless (Taylor's Version) Chapter\", artist)\n",
    "# create_txt_file(\"The More Lover Chapter\", artist)"
   ]
  },
  {
   "cell_type": "markdown",
   "metadata": {},
   "source": [
    "## Create excel files for complete data for each album"
   ]
  },
  {
   "cell_type": "code",
   "execution_count": 40,
   "metadata": {},
   "outputs": [],
   "source": [
    "def create_df_one_album(album, artist) :\n",
    "    # Get all songs from one album\n",
    "    song_titles = get_song_titles(album, artist)\n",
    "    clean_songs = get_clean_song_titles(song_titles)\n",
    "    featured_artists = get_featured_artists_in_one_album(album, artist)\n",
    "    track_numbers = create_track_numbers(clean_songs)\n",
    "\n",
    "    df = pd.DataFrame(columns=['Album', 'Song Title', 'Track Number', 'Featured Artist(s)'])\n",
    "    df['Song Title'] = clean_songs\n",
    "    df['Track Number'] = track_numbers\n",
    "    df['Featured Artist(s)'] = featured_artists\n",
    "    df['Album'] = album\n",
    "\n",
    "    # Enrich the information of the songs\n",
    "\n",
    "    df_info = get_additional_info(clean_songs)\n",
    "\n",
    "    if len(df) == len(df_info) :\n",
    "        df_complete = pd.concat([df, df_info], axis=1)\n",
    "    else :\n",
    "        print(f\"The information for the album {album} can't be created. Different lengths of data.\")\n",
    "\n",
    "    return df_complete"
   ]
  },
  {
   "cell_type": "code",
   "execution_count": 41,
   "metadata": {},
   "outputs": [],
   "source": [
    "def create_excel_full_data(album, artist) :\n",
    "    album_name = clean_album_name(album)\n",
    "    df_output = create_df_one_album(album, artist)\n",
    "    file_name = f\"{artist}_{album_name}/{album_name}_full_album_info.xlsx\"\n",
    "    \n",
    "    df_output.to_excel(file_name, sheet_name=f\"{album_name}\", encoding='utf8')\n",
    "    print(f\"Finished writing dataframe for the album {album}.txt\\n\")"
   ]
  },
  {
   "cell_type": "code",
   "execution_count": 35,
   "metadata": {},
   "outputs": [
    {
     "name": "stdout",
     "output_type": "stream",
     "text": [
      "Sleep now... Try connecting again\n",
      "Sleep now... Try connecting again\n",
      "Sleep now... Try connecting again\n",
      "Sleep now... Try connecting again\n"
     ]
    },
    {
     "ename": "KeyboardInterrupt",
     "evalue": "",
     "output_type": "error",
     "traceback": [
      "\u001b[1;31m---------------------------------------------------------------------------\u001b[0m",
      "\u001b[1;31mgaierror\u001b[0m                                  Traceback (most recent call last)",
      "File \u001b[1;32mc:\\Users\\Kentnard Jalen\\Anaconda\\lib\\site-packages\\urllib3\\connection.py:174\u001b[0m, in \u001b[0;36mHTTPConnection._new_conn\u001b[1;34m(self)\u001b[0m\n\u001b[0;32m    173\u001b[0m \u001b[38;5;28;01mtry\u001b[39;00m:\n\u001b[1;32m--> 174\u001b[0m     conn \u001b[38;5;241m=\u001b[39m connection\u001b[38;5;241m.\u001b[39mcreate_connection(\n\u001b[0;32m    175\u001b[0m         (\u001b[38;5;28mself\u001b[39m\u001b[38;5;241m.\u001b[39m_dns_host, \u001b[38;5;28mself\u001b[39m\u001b[38;5;241m.\u001b[39mport), \u001b[38;5;28mself\u001b[39m\u001b[38;5;241m.\u001b[39mtimeout, \u001b[38;5;241m*\u001b[39m\u001b[38;5;241m*\u001b[39mextra_kw\n\u001b[0;32m    176\u001b[0m     )\n\u001b[0;32m    178\u001b[0m \u001b[38;5;28;01mexcept\u001b[39;00m SocketTimeout:\n",
      "File \u001b[1;32mc:\\Users\\Kentnard Jalen\\Anaconda\\lib\\site-packages\\urllib3\\util\\connection.py:72\u001b[0m, in \u001b[0;36mcreate_connection\u001b[1;34m(address, timeout, source_address, socket_options)\u001b[0m\n\u001b[0;32m     68\u001b[0m     \u001b[38;5;28;01mreturn\u001b[39;00m six\u001b[38;5;241m.\u001b[39mraise_from(\n\u001b[0;32m     69\u001b[0m         LocationParseError(\u001b[38;5;124mu\u001b[39m\u001b[38;5;124m\"\u001b[39m\u001b[38;5;124m'\u001b[39m\u001b[38;5;132;01m%s\u001b[39;00m\u001b[38;5;124m'\u001b[39m\u001b[38;5;124m, label empty or too long\u001b[39m\u001b[38;5;124m\"\u001b[39m \u001b[38;5;241m%\u001b[39m host), \u001b[38;5;28;01mNone\u001b[39;00m\n\u001b[0;32m     70\u001b[0m     )\n\u001b[1;32m---> 72\u001b[0m \u001b[38;5;28;01mfor\u001b[39;00m res \u001b[38;5;129;01min\u001b[39;00m \u001b[43msocket\u001b[49m\u001b[38;5;241;43m.\u001b[39;49m\u001b[43mgetaddrinfo\u001b[49m\u001b[43m(\u001b[49m\u001b[43mhost\u001b[49m\u001b[43m,\u001b[49m\u001b[43m \u001b[49m\u001b[43mport\u001b[49m\u001b[43m,\u001b[49m\u001b[43m \u001b[49m\u001b[43mfamily\u001b[49m\u001b[43m,\u001b[49m\u001b[43m \u001b[49m\u001b[43msocket\u001b[49m\u001b[38;5;241;43m.\u001b[39;49m\u001b[43mSOCK_STREAM\u001b[49m\u001b[43m)\u001b[49m:\n\u001b[0;32m     73\u001b[0m     af, socktype, proto, canonname, sa \u001b[38;5;241m=\u001b[39m res\n",
      "File \u001b[1;32mc:\\Users\\Kentnard Jalen\\Anaconda\\lib\\socket.py:954\u001b[0m, in \u001b[0;36mgetaddrinfo\u001b[1;34m(host, port, family, type, proto, flags)\u001b[0m\n\u001b[0;32m    953\u001b[0m addrlist \u001b[38;5;241m=\u001b[39m []\n\u001b[1;32m--> 954\u001b[0m \u001b[38;5;28;01mfor\u001b[39;00m res \u001b[38;5;129;01min\u001b[39;00m \u001b[43m_socket\u001b[49m\u001b[38;5;241;43m.\u001b[39;49m\u001b[43mgetaddrinfo\u001b[49m\u001b[43m(\u001b[49m\u001b[43mhost\u001b[49m\u001b[43m,\u001b[49m\u001b[43m \u001b[49m\u001b[43mport\u001b[49m\u001b[43m,\u001b[49m\u001b[43m \u001b[49m\u001b[43mfamily\u001b[49m\u001b[43m,\u001b[49m\u001b[43m \u001b[49m\u001b[38;5;28;43mtype\u001b[39;49m\u001b[43m,\u001b[49m\u001b[43m \u001b[49m\u001b[43mproto\u001b[49m\u001b[43m,\u001b[49m\u001b[43m \u001b[49m\u001b[43mflags\u001b[49m\u001b[43m)\u001b[49m:\n\u001b[0;32m    955\u001b[0m     af, socktype, proto, canonname, sa \u001b[38;5;241m=\u001b[39m res\n",
      "\u001b[1;31mgaierror\u001b[0m: [Errno 11001] getaddrinfo failed",
      "\nDuring handling of the above exception, another exception occurred:\n",
      "\u001b[1;31mNewConnectionError\u001b[0m                        Traceback (most recent call last)",
      "File \u001b[1;32mc:\\Users\\Kentnard Jalen\\Anaconda\\lib\\site-packages\\urllib3\\connectionpool.py:703\u001b[0m, in \u001b[0;36mHTTPConnectionPool.urlopen\u001b[1;34m(self, method, url, body, headers, retries, redirect, assert_same_host, timeout, pool_timeout, release_conn, chunked, body_pos, **response_kw)\u001b[0m\n\u001b[0;32m    702\u001b[0m \u001b[38;5;66;03m# Make the request on the httplib connection object.\u001b[39;00m\n\u001b[1;32m--> 703\u001b[0m httplib_response \u001b[38;5;241m=\u001b[39m \u001b[38;5;28;43mself\u001b[39;49m\u001b[38;5;241;43m.\u001b[39;49m\u001b[43m_make_request\u001b[49m\u001b[43m(\u001b[49m\n\u001b[0;32m    704\u001b[0m \u001b[43m    \u001b[49m\u001b[43mconn\u001b[49m\u001b[43m,\u001b[49m\n\u001b[0;32m    705\u001b[0m \u001b[43m    \u001b[49m\u001b[43mmethod\u001b[49m\u001b[43m,\u001b[49m\n\u001b[0;32m    706\u001b[0m \u001b[43m    \u001b[49m\u001b[43murl\u001b[49m\u001b[43m,\u001b[49m\n\u001b[0;32m    707\u001b[0m \u001b[43m    \u001b[49m\u001b[43mtimeout\u001b[49m\u001b[38;5;241;43m=\u001b[39;49m\u001b[43mtimeout_obj\u001b[49m\u001b[43m,\u001b[49m\n\u001b[0;32m    708\u001b[0m \u001b[43m    \u001b[49m\u001b[43mbody\u001b[49m\u001b[38;5;241;43m=\u001b[39;49m\u001b[43mbody\u001b[49m\u001b[43m,\u001b[49m\n\u001b[0;32m    709\u001b[0m \u001b[43m    \u001b[49m\u001b[43mheaders\u001b[49m\u001b[38;5;241;43m=\u001b[39;49m\u001b[43mheaders\u001b[49m\u001b[43m,\u001b[49m\n\u001b[0;32m    710\u001b[0m \u001b[43m    \u001b[49m\u001b[43mchunked\u001b[49m\u001b[38;5;241;43m=\u001b[39;49m\u001b[43mchunked\u001b[49m\u001b[43m,\u001b[49m\n\u001b[0;32m    711\u001b[0m \u001b[43m\u001b[49m\u001b[43m)\u001b[49m\n\u001b[0;32m    713\u001b[0m \u001b[38;5;66;03m# If we're going to release the connection in ``finally:``, then\u001b[39;00m\n\u001b[0;32m    714\u001b[0m \u001b[38;5;66;03m# the response doesn't need to know about the connection. Otherwise\u001b[39;00m\n\u001b[0;32m    715\u001b[0m \u001b[38;5;66;03m# it will also try to release it and we'll have a double-release\u001b[39;00m\n\u001b[0;32m    716\u001b[0m \u001b[38;5;66;03m# mess.\u001b[39;00m\n",
      "File \u001b[1;32mc:\\Users\\Kentnard Jalen\\Anaconda\\lib\\site-packages\\urllib3\\connectionpool.py:386\u001b[0m, in \u001b[0;36mHTTPConnectionPool._make_request\u001b[1;34m(self, conn, method, url, timeout, chunked, **httplib_request_kw)\u001b[0m\n\u001b[0;32m    385\u001b[0m \u001b[38;5;28;01mtry\u001b[39;00m:\n\u001b[1;32m--> 386\u001b[0m     \u001b[38;5;28;43mself\u001b[39;49m\u001b[38;5;241;43m.\u001b[39;49m\u001b[43m_validate_conn\u001b[49m\u001b[43m(\u001b[49m\u001b[43mconn\u001b[49m\u001b[43m)\u001b[49m\n\u001b[0;32m    387\u001b[0m \u001b[38;5;28;01mexcept\u001b[39;00m (SocketTimeout, BaseSSLError) \u001b[38;5;28;01mas\u001b[39;00m e:\n\u001b[0;32m    388\u001b[0m     \u001b[38;5;66;03m# Py2 raises this as a BaseSSLError, Py3 raises it as socket timeout.\u001b[39;00m\n",
      "File \u001b[1;32mc:\\Users\\Kentnard Jalen\\Anaconda\\lib\\site-packages\\urllib3\\connectionpool.py:1040\u001b[0m, in \u001b[0;36mHTTPSConnectionPool._validate_conn\u001b[1;34m(self, conn)\u001b[0m\n\u001b[0;32m   1039\u001b[0m \u001b[38;5;28;01mif\u001b[39;00m \u001b[38;5;129;01mnot\u001b[39;00m \u001b[38;5;28mgetattr\u001b[39m(conn, \u001b[38;5;124m\"\u001b[39m\u001b[38;5;124msock\u001b[39m\u001b[38;5;124m\"\u001b[39m, \u001b[38;5;28;01mNone\u001b[39;00m):  \u001b[38;5;66;03m# AppEngine might not have  `.sock`\u001b[39;00m\n\u001b[1;32m-> 1040\u001b[0m     \u001b[43mconn\u001b[49m\u001b[38;5;241;43m.\u001b[39;49m\u001b[43mconnect\u001b[49m\u001b[43m(\u001b[49m\u001b[43m)\u001b[49m\n\u001b[0;32m   1042\u001b[0m \u001b[38;5;28;01mif\u001b[39;00m \u001b[38;5;129;01mnot\u001b[39;00m conn\u001b[38;5;241m.\u001b[39mis_verified:\n",
      "File \u001b[1;32mc:\\Users\\Kentnard Jalen\\Anaconda\\lib\\site-packages\\urllib3\\connection.py:358\u001b[0m, in \u001b[0;36mHTTPSConnection.connect\u001b[1;34m(self)\u001b[0m\n\u001b[0;32m    356\u001b[0m \u001b[38;5;28;01mdef\u001b[39;00m \u001b[38;5;21mconnect\u001b[39m(\u001b[38;5;28mself\u001b[39m):\n\u001b[0;32m    357\u001b[0m     \u001b[38;5;66;03m# Add certificate verification\u001b[39;00m\n\u001b[1;32m--> 358\u001b[0m     \u001b[38;5;28mself\u001b[39m\u001b[38;5;241m.\u001b[39msock \u001b[38;5;241m=\u001b[39m conn \u001b[38;5;241m=\u001b[39m \u001b[38;5;28;43mself\u001b[39;49m\u001b[38;5;241;43m.\u001b[39;49m\u001b[43m_new_conn\u001b[49m\u001b[43m(\u001b[49m\u001b[43m)\u001b[49m\n\u001b[0;32m    359\u001b[0m     hostname \u001b[38;5;241m=\u001b[39m \u001b[38;5;28mself\u001b[39m\u001b[38;5;241m.\u001b[39mhost\n",
      "File \u001b[1;32mc:\\Users\\Kentnard Jalen\\Anaconda\\lib\\site-packages\\urllib3\\connection.py:186\u001b[0m, in \u001b[0;36mHTTPConnection._new_conn\u001b[1;34m(self)\u001b[0m\n\u001b[0;32m    185\u001b[0m \u001b[38;5;28;01mexcept\u001b[39;00m SocketError \u001b[38;5;28;01mas\u001b[39;00m e:\n\u001b[1;32m--> 186\u001b[0m     \u001b[38;5;28;01mraise\u001b[39;00m NewConnectionError(\n\u001b[0;32m    187\u001b[0m         \u001b[38;5;28mself\u001b[39m, \u001b[38;5;124m\"\u001b[39m\u001b[38;5;124mFailed to establish a new connection: \u001b[39m\u001b[38;5;132;01m%s\u001b[39;00m\u001b[38;5;124m\"\u001b[39m \u001b[38;5;241m%\u001b[39m e\n\u001b[0;32m    188\u001b[0m     )\n\u001b[0;32m    190\u001b[0m \u001b[38;5;28;01mreturn\u001b[39;00m conn\n",
      "\u001b[1;31mNewConnectionError\u001b[0m: <urllib3.connection.HTTPSConnection object at 0x0000019F08B15280>: Failed to establish a new connection: [Errno 11001] getaddrinfo failed",
      "\nDuring handling of the above exception, another exception occurred:\n",
      "\u001b[1;31mMaxRetryError\u001b[0m                             Traceback (most recent call last)",
      "File \u001b[1;32mc:\\Users\\Kentnard Jalen\\Anaconda\\lib\\site-packages\\requests\\adapters.py:440\u001b[0m, in \u001b[0;36mHTTPAdapter.send\u001b[1;34m(self, request, stream, timeout, verify, cert, proxies)\u001b[0m\n\u001b[0;32m    439\u001b[0m \u001b[38;5;28;01mif\u001b[39;00m \u001b[38;5;129;01mnot\u001b[39;00m chunked:\n\u001b[1;32m--> 440\u001b[0m     resp \u001b[38;5;241m=\u001b[39m \u001b[43mconn\u001b[49m\u001b[38;5;241;43m.\u001b[39;49m\u001b[43murlopen\u001b[49m\u001b[43m(\u001b[49m\n\u001b[0;32m    441\u001b[0m \u001b[43m        \u001b[49m\u001b[43mmethod\u001b[49m\u001b[38;5;241;43m=\u001b[39;49m\u001b[43mrequest\u001b[49m\u001b[38;5;241;43m.\u001b[39;49m\u001b[43mmethod\u001b[49m\u001b[43m,\u001b[49m\n\u001b[0;32m    442\u001b[0m \u001b[43m        \u001b[49m\u001b[43murl\u001b[49m\u001b[38;5;241;43m=\u001b[39;49m\u001b[43murl\u001b[49m\u001b[43m,\u001b[49m\n\u001b[0;32m    443\u001b[0m \u001b[43m        \u001b[49m\u001b[43mbody\u001b[49m\u001b[38;5;241;43m=\u001b[39;49m\u001b[43mrequest\u001b[49m\u001b[38;5;241;43m.\u001b[39;49m\u001b[43mbody\u001b[49m\u001b[43m,\u001b[49m\n\u001b[0;32m    444\u001b[0m \u001b[43m        \u001b[49m\u001b[43mheaders\u001b[49m\u001b[38;5;241;43m=\u001b[39;49m\u001b[43mrequest\u001b[49m\u001b[38;5;241;43m.\u001b[39;49m\u001b[43mheaders\u001b[49m\u001b[43m,\u001b[49m\n\u001b[0;32m    445\u001b[0m \u001b[43m        \u001b[49m\u001b[43mredirect\u001b[49m\u001b[38;5;241;43m=\u001b[39;49m\u001b[38;5;28;43;01mFalse\u001b[39;49;00m\u001b[43m,\u001b[49m\n\u001b[0;32m    446\u001b[0m \u001b[43m        \u001b[49m\u001b[43massert_same_host\u001b[49m\u001b[38;5;241;43m=\u001b[39;49m\u001b[38;5;28;43;01mFalse\u001b[39;49;00m\u001b[43m,\u001b[49m\n\u001b[0;32m    447\u001b[0m \u001b[43m        \u001b[49m\u001b[43mpreload_content\u001b[49m\u001b[38;5;241;43m=\u001b[39;49m\u001b[38;5;28;43;01mFalse\u001b[39;49;00m\u001b[43m,\u001b[49m\n\u001b[0;32m    448\u001b[0m \u001b[43m        \u001b[49m\u001b[43mdecode_content\u001b[49m\u001b[38;5;241;43m=\u001b[39;49m\u001b[38;5;28;43;01mFalse\u001b[39;49;00m\u001b[43m,\u001b[49m\n\u001b[0;32m    449\u001b[0m \u001b[43m        \u001b[49m\u001b[43mretries\u001b[49m\u001b[38;5;241;43m=\u001b[39;49m\u001b[38;5;28;43mself\u001b[39;49m\u001b[38;5;241;43m.\u001b[39;49m\u001b[43mmax_retries\u001b[49m\u001b[43m,\u001b[49m\n\u001b[0;32m    450\u001b[0m \u001b[43m        \u001b[49m\u001b[43mtimeout\u001b[49m\u001b[38;5;241;43m=\u001b[39;49m\u001b[43mtimeout\u001b[49m\n\u001b[0;32m    451\u001b[0m \u001b[43m    \u001b[49m\u001b[43m)\u001b[49m\n\u001b[0;32m    453\u001b[0m \u001b[38;5;66;03m# Send the request.\u001b[39;00m\n\u001b[0;32m    454\u001b[0m \u001b[38;5;28;01melse\u001b[39;00m:\n",
      "File \u001b[1;32mc:\\Users\\Kentnard Jalen\\Anaconda\\lib\\site-packages\\urllib3\\connectionpool.py:785\u001b[0m, in \u001b[0;36mHTTPConnectionPool.urlopen\u001b[1;34m(self, method, url, body, headers, retries, redirect, assert_same_host, timeout, pool_timeout, release_conn, chunked, body_pos, **response_kw)\u001b[0m\n\u001b[0;32m    783\u001b[0m     e \u001b[38;5;241m=\u001b[39m ProtocolError(\u001b[38;5;124m\"\u001b[39m\u001b[38;5;124mConnection aborted.\u001b[39m\u001b[38;5;124m\"\u001b[39m, e)\n\u001b[1;32m--> 785\u001b[0m retries \u001b[38;5;241m=\u001b[39m \u001b[43mretries\u001b[49m\u001b[38;5;241;43m.\u001b[39;49m\u001b[43mincrement\u001b[49m\u001b[43m(\u001b[49m\n\u001b[0;32m    786\u001b[0m \u001b[43m    \u001b[49m\u001b[43mmethod\u001b[49m\u001b[43m,\u001b[49m\u001b[43m \u001b[49m\u001b[43murl\u001b[49m\u001b[43m,\u001b[49m\u001b[43m \u001b[49m\u001b[43merror\u001b[49m\u001b[38;5;241;43m=\u001b[39;49m\u001b[43me\u001b[49m\u001b[43m,\u001b[49m\u001b[43m \u001b[49m\u001b[43m_pool\u001b[49m\u001b[38;5;241;43m=\u001b[39;49m\u001b[38;5;28;43mself\u001b[39;49m\u001b[43m,\u001b[49m\u001b[43m \u001b[49m\u001b[43m_stacktrace\u001b[49m\u001b[38;5;241;43m=\u001b[39;49m\u001b[43msys\u001b[49m\u001b[38;5;241;43m.\u001b[39;49m\u001b[43mexc_info\u001b[49m\u001b[43m(\u001b[49m\u001b[43m)\u001b[49m\u001b[43m[\u001b[49m\u001b[38;5;241;43m2\u001b[39;49m\u001b[43m]\u001b[49m\n\u001b[0;32m    787\u001b[0m \u001b[43m\u001b[49m\u001b[43m)\u001b[49m\n\u001b[0;32m    788\u001b[0m retries\u001b[38;5;241m.\u001b[39msleep()\n",
      "File \u001b[1;32mc:\\Users\\Kentnard Jalen\\Anaconda\\lib\\site-packages\\urllib3\\util\\retry.py:592\u001b[0m, in \u001b[0;36mRetry.increment\u001b[1;34m(self, method, url, response, error, _pool, _stacktrace)\u001b[0m\n\u001b[0;32m    591\u001b[0m \u001b[38;5;28;01mif\u001b[39;00m new_retry\u001b[38;5;241m.\u001b[39mis_exhausted():\n\u001b[1;32m--> 592\u001b[0m     \u001b[38;5;28;01mraise\u001b[39;00m MaxRetryError(_pool, url, error \u001b[38;5;129;01mor\u001b[39;00m ResponseError(cause))\n\u001b[0;32m    594\u001b[0m log\u001b[38;5;241m.\u001b[39mdebug(\u001b[38;5;124m\"\u001b[39m\u001b[38;5;124mIncremented Retry for (url=\u001b[39m\u001b[38;5;124m'\u001b[39m\u001b[38;5;132;01m%s\u001b[39;00m\u001b[38;5;124m'\u001b[39m\u001b[38;5;124m): \u001b[39m\u001b[38;5;132;01m%r\u001b[39;00m\u001b[38;5;124m\"\u001b[39m, url, new_retry)\n",
      "\u001b[1;31mMaxRetryError\u001b[0m: HTTPSConnectionPool(host='genius.com', port=443): Max retries exceeded with url: /albums/Taylor-Swift/Taylor-Swift (Caused by NewConnectionError('<urllib3.connection.HTTPSConnection object at 0x0000019F08B15280>: Failed to establish a new connection: [Errno 11001] getaddrinfo failed'))",
      "\nDuring handling of the above exception, another exception occurred:\n",
      "\u001b[1;31mConnectionError\u001b[0m                           Traceback (most recent call last)",
      "Input \u001b[1;32mIn [7]\u001b[0m, in \u001b[0;36mget_song_titles\u001b[1;34m(album_name, artist)\u001b[0m\n\u001b[0;32m     11\u001b[0m \u001b[38;5;28;01mtry\u001b[39;00m :\n\u001b[1;32m---> 12\u001b[0m     response \u001b[38;5;241m=\u001b[39m \u001b[43mrequests\u001b[49m\u001b[38;5;241;43m.\u001b[39;49m\u001b[43mget\u001b[49m\u001b[43m(\u001b[49m\u001b[43mURL\u001b[49m\u001b[43m,\u001b[49m\u001b[43m \u001b[49m\u001b[43mheaders\u001b[49m\u001b[38;5;241;43m=\u001b[39;49m\u001b[43mheaders\u001b[49m\u001b[43m)\u001b[49m\n\u001b[0;32m     13\u001b[0m     html_string \u001b[38;5;241m=\u001b[39m response\u001b[38;5;241m.\u001b[39mtext\n",
      "File \u001b[1;32mc:\\Users\\Kentnard Jalen\\Anaconda\\lib\\site-packages\\requests\\api.py:75\u001b[0m, in \u001b[0;36mget\u001b[1;34m(url, params, **kwargs)\u001b[0m\n\u001b[0;32m     65\u001b[0m \u001b[38;5;124mr\u001b[39m\u001b[38;5;124;03m\"\"\"Sends a GET request.\u001b[39;00m\n\u001b[0;32m     66\u001b[0m \n\u001b[0;32m     67\u001b[0m \u001b[38;5;124;03m:param url: URL for the new :class:`Request` object.\u001b[39;00m\n\u001b[1;32m   (...)\u001b[0m\n\u001b[0;32m     72\u001b[0m \u001b[38;5;124;03m:rtype: requests.Response\u001b[39;00m\n\u001b[0;32m     73\u001b[0m \u001b[38;5;124;03m\"\"\"\u001b[39;00m\n\u001b[1;32m---> 75\u001b[0m \u001b[38;5;28;01mreturn\u001b[39;00m request(\u001b[38;5;124m'\u001b[39m\u001b[38;5;124mget\u001b[39m\u001b[38;5;124m'\u001b[39m, url, params\u001b[38;5;241m=\u001b[39mparams, \u001b[38;5;241m*\u001b[39m\u001b[38;5;241m*\u001b[39mkwargs)\n",
      "File \u001b[1;32mc:\\Users\\Kentnard Jalen\\Anaconda\\lib\\site-packages\\requests\\api.py:61\u001b[0m, in \u001b[0;36mrequest\u001b[1;34m(method, url, **kwargs)\u001b[0m\n\u001b[0;32m     60\u001b[0m \u001b[38;5;28;01mwith\u001b[39;00m sessions\u001b[38;5;241m.\u001b[39mSession() \u001b[38;5;28;01mas\u001b[39;00m session:\n\u001b[1;32m---> 61\u001b[0m     \u001b[38;5;28;01mreturn\u001b[39;00m session\u001b[38;5;241m.\u001b[39mrequest(method\u001b[38;5;241m=\u001b[39mmethod, url\u001b[38;5;241m=\u001b[39murl, \u001b[38;5;241m*\u001b[39m\u001b[38;5;241m*\u001b[39mkwargs)\n",
      "File \u001b[1;32mc:\\Users\\Kentnard Jalen\\Anaconda\\lib\\site-packages\\requests\\sessions.py:529\u001b[0m, in \u001b[0;36mSession.request\u001b[1;34m(self, method, url, params, data, headers, cookies, files, auth, timeout, allow_redirects, proxies, hooks, stream, verify, cert, json)\u001b[0m\n\u001b[0;32m    528\u001b[0m send_kwargs\u001b[38;5;241m.\u001b[39mupdate(settings)\n\u001b[1;32m--> 529\u001b[0m resp \u001b[38;5;241m=\u001b[39m \u001b[38;5;28mself\u001b[39m\u001b[38;5;241m.\u001b[39msend(prep, \u001b[38;5;241m*\u001b[39m\u001b[38;5;241m*\u001b[39msend_kwargs)\n\u001b[0;32m    531\u001b[0m \u001b[38;5;28;01mreturn\u001b[39;00m resp\n",
      "File \u001b[1;32mc:\\Users\\Kentnard Jalen\\Anaconda\\lib\\site-packages\\requests\\sessions.py:645\u001b[0m, in \u001b[0;36mSession.send\u001b[1;34m(self, request, **kwargs)\u001b[0m\n\u001b[0;32m    644\u001b[0m \u001b[38;5;66;03m# Send the request\u001b[39;00m\n\u001b[1;32m--> 645\u001b[0m r \u001b[38;5;241m=\u001b[39m adapter\u001b[38;5;241m.\u001b[39msend(request, \u001b[38;5;241m*\u001b[39m\u001b[38;5;241m*\u001b[39mkwargs)\n\u001b[0;32m    647\u001b[0m \u001b[38;5;66;03m# Total elapsed time of the request (approximately)\u001b[39;00m\n",
      "File \u001b[1;32mc:\\Users\\Kentnard Jalen\\Anaconda\\lib\\site-packages\\requests\\adapters.py:519\u001b[0m, in \u001b[0;36mHTTPAdapter.send\u001b[1;34m(self, request, stream, timeout, verify, cert, proxies)\u001b[0m\n\u001b[0;32m    517\u001b[0m         \u001b[38;5;28;01mraise\u001b[39;00m SSLError(e, request\u001b[38;5;241m=\u001b[39mrequest)\n\u001b[1;32m--> 519\u001b[0m     \u001b[38;5;28;01mraise\u001b[39;00m \u001b[38;5;167;01mConnectionError\u001b[39;00m(e, request\u001b[38;5;241m=\u001b[39mrequest)\n\u001b[0;32m    521\u001b[0m \u001b[38;5;28;01mexcept\u001b[39;00m ClosedPoolError \u001b[38;5;28;01mas\u001b[39;00m e:\n",
      "\u001b[1;31mConnectionError\u001b[0m: HTTPSConnectionPool(host='genius.com', port=443): Max retries exceeded with url: /albums/Taylor-Swift/Taylor-Swift (Caused by NewConnectionError('<urllib3.connection.HTTPSConnection object at 0x0000019F08B15280>: Failed to establish a new connection: [Errno 11001] getaddrinfo failed'))",
      "\nDuring handling of the above exception, another exception occurred:\n",
      "\u001b[1;31mKeyboardInterrupt\u001b[0m                         Traceback (most recent call last)",
      "Input \u001b[1;32mIn [35]\u001b[0m, in \u001b[0;36m<cell line: 3>\u001b[1;34m()\u001b[0m\n\u001b[0;32m      1\u001b[0m \u001b[38;5;66;03m# Create excel for each album. Please do it separately to avoid ConnectionError!\u001b[39;00m\n\u001b[1;32m----> 3\u001b[0m \u001b[43mcreate_excel_full_data\u001b[49m\u001b[43m(\u001b[49m\u001b[38;5;124;43m\"\u001b[39;49m\u001b[38;5;124;43mTaylor Swift\u001b[39;49m\u001b[38;5;124;43m\"\u001b[39;49m\u001b[43m,\u001b[49m\u001b[43m \u001b[49m\u001b[43martist\u001b[49m\u001b[43m)\u001b[49m\n",
      "Input \u001b[1;32mIn [34]\u001b[0m, in \u001b[0;36mcreate_excel_full_data\u001b[1;34m(album, artist)\u001b[0m\n\u001b[0;32m      5\u001b[0m \u001b[38;5;28;01mif\u001b[39;00m \u001b[38;5;129;01mnot\u001b[39;00m os\u001b[38;5;241m.\u001b[39mpath\u001b[38;5;241m.\u001b[39mexists(directory_path) : \n\u001b[0;32m      6\u001b[0m     os\u001b[38;5;241m.\u001b[39mmakedirs(directory_path)\n\u001b[1;32m----> 8\u001b[0m df_output \u001b[38;5;241m=\u001b[39m \u001b[43mcreate_df_one_album\u001b[49m\u001b[43m(\u001b[49m\u001b[43malbum\u001b[49m\u001b[43m,\u001b[49m\u001b[43m \u001b[49m\u001b[43martist\u001b[49m\u001b[43m)\u001b[49m\n\u001b[0;32m      9\u001b[0m file_name \u001b[38;5;241m=\u001b[39m \u001b[38;5;124mf\u001b[39m\u001b[38;5;124m\"\u001b[39m\u001b[38;5;132;01m{\u001b[39;00mdirectory_path\u001b[38;5;132;01m}\u001b[39;00m\u001b[38;5;124m/\u001b[39m\u001b[38;5;132;01m{\u001b[39;00malbum_name\u001b[38;5;132;01m}\u001b[39;00m\u001b[38;5;124m_full_album_info.xlsx\u001b[39m\u001b[38;5;124m\"\u001b[39m\n\u001b[0;32m     11\u001b[0m df_output\u001b[38;5;241m.\u001b[39mto_excel(file_name, sheet_name\u001b[38;5;241m=\u001b[39m\u001b[38;5;124mf\u001b[39m\u001b[38;5;124m\"\u001b[39m\u001b[38;5;132;01m{\u001b[39;00malbum_name\u001b[38;5;132;01m}\u001b[39;00m\u001b[38;5;124m\"\u001b[39m, encoding\u001b[38;5;241m=\u001b[39m\u001b[38;5;124m'\u001b[39m\u001b[38;5;124mutf8\u001b[39m\u001b[38;5;124m'\u001b[39m)\n",
      "Input \u001b[1;32mIn [33]\u001b[0m, in \u001b[0;36mcreate_df_one_album\u001b[1;34m(album, artist)\u001b[0m\n\u001b[0;32m      1\u001b[0m \u001b[38;5;28;01mdef\u001b[39;00m \u001b[38;5;21mcreate_df_one_album\u001b[39m(album, artist) :\n\u001b[0;32m      2\u001b[0m     \u001b[38;5;66;03m# Get all songs from one album\u001b[39;00m\n\u001b[1;32m----> 3\u001b[0m     song_titles \u001b[38;5;241m=\u001b[39m \u001b[43mget_song_titles\u001b[49m\u001b[43m(\u001b[49m\u001b[43malbum\u001b[49m\u001b[43m,\u001b[49m\u001b[43m \u001b[49m\u001b[43martist\u001b[49m\u001b[43m)\u001b[49m\n\u001b[0;32m      4\u001b[0m     clean_songs \u001b[38;5;241m=\u001b[39m get_clean_song_titles(song_titles)\n\u001b[0;32m      5\u001b[0m     featured_artists \u001b[38;5;241m=\u001b[39m get_featured_artists_in_one_album(album, artist)\n",
      "Input \u001b[1;32mIn [7]\u001b[0m, in \u001b[0;36mget_song_titles\u001b[1;34m(album_name, artist)\u001b[0m\n\u001b[0;32m     16\u001b[0m     \u001b[38;5;28;01mexcept\u001b[39;00m :\n\u001b[0;32m     17\u001b[0m         \u001b[38;5;28mprint\u001b[39m(\u001b[38;5;124m\"\u001b[39m\u001b[38;5;124mSleep now... Try connecting again\u001b[39m\u001b[38;5;124m\"\u001b[39m)\n\u001b[1;32m---> 18\u001b[0m         \u001b[43mtime\u001b[49m\u001b[38;5;241;43m.\u001b[39;49m\u001b[43msleep\u001b[49m\u001b[43m(\u001b[49m\u001b[38;5;241;43m5\u001b[39;49m\u001b[43m)\u001b[49m\n\u001b[0;32m     20\u001b[0m \u001b[38;5;66;03m# Extract song titles and clean them\u001b[39;00m\n\u001b[0;32m     21\u001b[0m song_title_tags \u001b[38;5;241m=\u001b[39m document\u001b[38;5;241m.\u001b[39mfind_all(\u001b[38;5;124m\"\u001b[39m\u001b[38;5;124mh3\u001b[39m\u001b[38;5;124m\"\u001b[39m, attrs\u001b[38;5;241m=\u001b[39m{\u001b[38;5;124m\"\u001b[39m\u001b[38;5;124mclass\u001b[39m\u001b[38;5;124m\"\u001b[39m: \u001b[38;5;124m\"\u001b[39m\u001b[38;5;124mchart_row-content-title\u001b[39m\u001b[38;5;124m\"\u001b[39m})\n",
      "\u001b[1;31mKeyboardInterrupt\u001b[0m: "
     ]
    }
   ],
   "source": [
    "# Create excel for each album. Please do it separately to avoid ConnectionError!\n",
    "\n",
    "create_excel_full_data(\"Taylor Swift\", artist)\n",
    "# create_excel_full_data(\"Fearless (Taylor's Version)\", artist)\n",
    "# create_excel_full_data(\"Speak Now (Taylor's Version)\", artist)\n",
    "# create_excel_full_data(\"Red (Taylor's Version)\", artist)\n",
    "# create_excel_full_data(\"1989 (Taylor's Version) [Deluxe]\", artist)\n",
    "# create_excel_full_data(\"reputation\", artist)\n",
    "# create_excel_full_data(\"Lover\", artist)\n",
    "# create_excel_full_data(\"folklore (deluxe version)\", artist)\n",
    "# create_excel_full_data(\"evermore (deluxe version)\", artist)\n",
    "# create_excel_full_data(\"Midnights (The Til Dawn Edition)\", artist)\n",
    "# create_excel_full_data(\"Midnights (The Late Night Edition)\", artist)\n",
    "# create_excel_full_data(\"The More Red (Taylor's Version) Chapter\", artist)\n",
    "# create_excel_full_data(\"The More Fearless (Taylor's Version) Chapter\", artist)\n",
    "# create_excel_full_data(\"The More Lover Chapter\", artist)"
   ]
  },
  {
   "cell_type": "markdown",
   "metadata": {},
   "source": [
    "## Create the extended dataframe for each album"
   ]
  },
  {
   "cell_type": "markdown",
   "metadata": {},
   "source": [
    "### Separating each line of the lyric into a row"
   ]
  },
  {
   "cell_type": "code",
   "execution_count": null,
   "metadata": {},
   "outputs": [],
   "source": [
    "def create_expanded_dataframe_lyric(album, artist) :\n",
    "    df_original = create_df_one_album(album, artist)\n",
    "    df_output = pd.DataFrame(columns=['Album', 'Song Title', 'Line Number', 'Line'])\n",
    "    for index, row in df_original.iterrows():\n",
    "        album =  row['Album']\n",
    "        song_title = row['Song Title']\n",
    "        lyrics = row['Lyrics'].split(\"\\n\")\n",
    "        lyrics_clean = [line for line in lyrics if len(line)>0]\n",
    "        \n",
    "        for line_number, line in enumerate(lyrics_clean) : \n",
    "            new_row = [album, song_title, line_number+1, line]       \n",
    "            df_output.loc[len(df_output)] = new_row\n",
    "    \n",
    "    return df_output"
   ]
  },
  {
   "cell_type": "code",
   "execution_count": null,
   "metadata": {},
   "outputs": [],
   "source": [
    "def create_excel_expanded_full_data(album, artist) :\n",
    "    album_name = clean_album_name(album)\n",
    "    directory_path = f\"{artist}_{album_name}\"\n",
    "    \n",
    "    if not os.path.exists(directory_path) : \n",
    "        os.makedirs(directory_path)\n",
    "        \n",
    "    df_output = create_expanded_dataframe_lyric(album, artist)\n",
    "    file_name = f\"{directory_path}/{album_name}_expanded_full_album_info.xlsx\"\n",
    "    \n",
    "    df_output.to_excel(file_name, sheet_name=f\"{album_name}\", encoding='utf8')\n",
    "    print(f\"Finished writing expanded dataframe for the album {album}.txt\")\n",
    "    "
   ]
  },
  {
   "cell_type": "code",
   "execution_count": null,
   "metadata": {},
   "outputs": [],
   "source": [
    "# Create extended dataframe for each album. Please do it separately to avoid ConnectionError!\n",
    "\n",
    "# create_excel_expanded_full_data(\"Taylor Swift\", artist)\n",
    "# create_excel_expanded_full_data(\"Fearless (Taylor's Version)\", artist)\n",
    "# create_excel_expanded_full_data(\"Speak Now (Taylor's Version)\", artist)\n",
    "# create_excel_expanded_full_data(\"Red (Taylor's Version)\", artist)\n",
    "# create_excel_expanded_full_data(\"1989 (Taylor's Version) [Deluxe]\", artist)\n",
    "# create_excel_expanded_full_data(\"reputation\", artist)\n",
    "# create_excel_expanded_full_data(\"Lover\", artist)\n",
    "# create_excel_expanded_full_data(\"folklore (deluxe version)\", artist)\n",
    "# create_excel_expanded_full_data(\"evermore (deluxe version)\", artist)\n",
    "# create_excel_expanded_full_data(\"Midnights (The Til Dawn Edition)\", artist)\n",
    "# create_excel_expanded_full_data(\"Midnights (The Late Night Edition)\", artist)\n",
    "# create_excel_expanded_full_data(\"The More Red (Taylor's Version) Chapter\", artist)\n",
    "# create_excel_expanded_full_data(\"The More Fearless (Taylor's Version) Chapter\", artist)\n",
    "# create_excel_expanded_full_data(\"The More Lover Chapter\", artist)"
   ]
  }
 ],
 "metadata": {
  "associatedRecipe": "compute_test",
  "createdOn": 1712146876869,
  "creationTag": {
   "extendedProperties": {},
   "lastModifiedBy": {
    "login": "KentnardS"
   },
   "lastModifiedOn": 1712146876869,
   "versionNumber": 0
  },
  "creator": "KentnardS",
  "customFields": {},
  "dkuGit": {
   "lastInteraction": 0
  },
  "hide_input": false,
  "kernelspec": {
   "display_name": "base",
   "language": "python",
   "name": "python3"
  },
  "language_info": {
   "codemirror_mode": {
    "name": "ipython",
    "version": 3
   },
   "file_extension": ".py",
   "mimetype": "text/x-python",
   "name": "python",
   "nbconvert_exporter": "python",
   "pygments_lexer": "ipython3",
   "version": "3.9.12"
  },
  "modifiedBy": "KentnardS",
  "tags": [
   "recipe-editor"
  ],
  "toc": {
   "base_numbering": 1,
   "nav_menu": {},
   "number_sections": true,
   "sideBar": true,
   "skip_h1_title": false,
   "title_cell": "Table of Contents",
   "title_sidebar": "Contents",
   "toc_cell": false,
   "toc_position": {},
   "toc_section_display": true,
   "toc_window_display": false
  }
 },
 "nbformat": 4,
 "nbformat_minor": 1
}
