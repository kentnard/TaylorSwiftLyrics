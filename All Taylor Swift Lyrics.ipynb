{
 "cells": [
  {
   "cell_type": "code",
   "execution_count": null,
   "metadata": {},
   "outputs": [],
   "source": [
    "# 1. -*- coding: utf-8 -*-\n",
    "from bs4 import BeautifulSoup\n",
    "import lyricsgenius\n",
    "import requests\n",
    "import api_key\n",
    "\n",
    "import re\n",
    "import json\n",
    "from math import ceil, floor\n",
    "import pandas as pd\n",
    "import os\n",
    "\n",
    "\n",
    "from pathlib import Path\n",
    "import time\n",
    "from datetime import datetime\n",
    "import xlsxwriter"
   ]
  },
  {
   "cell_type": "code",
   "execution_count": null,
   "metadata": {},
   "outputs": [],
   "source": [
    "client_access_token = api_key.my_api_key\n",
    "LyricsGenius = lyricsgenius.Genius(client_access_token)\n",
    "LyricsGenius.remove_section_headers = True\n",
    "headers = {\n",
    "    'User-Agent': 'Mozilla/5.0 (Windows NT 10.0; Win64; x64) AppleWebKit/537.36 (KHTML, like Gecko) Chrome/109.0.0.0 Safari/537.36',\n",
    "}"
   ]
  },
  {
   "cell_type": "code",
   "execution_count": null,
   "metadata": {},
   "outputs": [],
   "source": [
    "artist = \"Taylor Swift\"\n",
    "artist = artist.replace(\" \", \"-\")\n",
    "artist"
   ]
  },
  {
   "attachments": {},
   "cell_type": "markdown",
   "metadata": {},
   "source": [
    "# Define all functions"
   ]
  },
  {
   "attachments": {},
   "cell_type": "markdown",
   "metadata": {},
   "source": [
    "## Get the cleaned song titles of an album"
   ]
  },
  {
   "cell_type": "code",
   "execution_count": null,
   "metadata": {},
   "outputs": [],
   "source": [
    "def clean_up(song_title):\n",
    "    if \"Ft\" in song_title:\n",
    "        before_ft_pattern = re.compile(\".*(?=\\(Ft)\")\n",
    "        song_title_before_ft = before_ft_pattern.search(song_title).group(0)\n",
    "        clean_song_title = song_title_before_ft.strip()\n",
    "        clean_song_title = clean_song_title.replace(\"/\", \"-\")\n",
    "\n",
    "    else:\n",
    "        song_title_no_lyrics = song_title.replace(\"Lyrics\", \"\")\n",
    "        clean_song_title = song_title_no_lyrics.strip()\n",
    "        clean_song_title = clean_song_title.replace(\"/\", \"-\")\n",
    "\n",
    "    return clean_song_title"
   ]
  },
  {
   "cell_type": "code",
   "execution_count": null,
   "metadata": {},
   "outputs": [],
   "source": [
    "def title_contains_weird_strings(song_title) :\n",
    "    pattern = r\"Reputation Magazine|\\[Poem\\]|\\[Prologue\\]|\\[Foreword\\]|\\[Liner Notes\\]\"\n",
    "    return True if re.search(pattern, song_title) else False"
   ]
  },
  {
   "cell_type": "code",
   "execution_count": null,
   "metadata": {},
   "outputs": [],
   "source": [
    "def get_song_titles(album_name, artist) :\n",
    "    # Clean album name and artist\n",
    "    album_name = re.sub(r\"\\(Taylor's Version\\)\", \"taylors-version\", album_name)\n",
    "    album_name = re.sub(r\"[\\[\\]\\(\\)\\:]\", \"\", album_name)\n",
    "    album_name = re.sub(r\" \", \"-\", album_name)\n",
    "\n",
    "    # Get the HTML page\n",
    "    URL = f\"https://genius.com/albums/{artist}/{album_name}\"\n",
    "    document = ''\n",
    "    while document == '' :\n",
    "        try :\n",
    "            response = requests.get(URL, headers=headers)\n",
    "            html_string = response.text\n",
    "            document = BeautifulSoup(html_string, \"html.parser\")\n",
    "            break\n",
    "        except :\n",
    "            print(\"Sleep now... Try connecting again\")\n",
    "            time.sleep(5)\n",
    "\n",
    "    # Extract song titles and clean them\n",
    "    song_title_tags = document.find_all(\"h3\", attrs={\"class\": \"chart_row-content-title\"})\n",
    "    song_titles = [song_title.text for song_title in song_title_tags]\n",
    "    song_titles_legit = [song_title for song_title in song_titles if not title_contains_weird_strings(song_title)]\n",
    "    return song_titles_legit"
   ]
  },
  {
   "cell_type": "code",
   "execution_count": null,
   "metadata": {},
   "outputs": [],
   "source": [
    "def get_clean_song_titles(song_titles) :\n",
    "    clean_songs = []\n",
    "    for song_title in song_titles:\n",
    "        clean_song = clean_up(song_title)\n",
    "        clean_songs.append(clean_song)\n",
    "\n",
    "    return clean_songs"
   ]
  },
  {
   "attachments": {},
   "cell_type": "markdown",
   "metadata": {},
   "source": [
    "## Get the track numbers"
   ]
  },
  {
   "cell_type": "code",
   "execution_count": null,
   "metadata": {},
   "outputs": [],
   "source": [
    "def create_track_numbers(clean_songs) :\n",
    "    return [i for i in range(1, len(clean_songs)+1)]"
   ]
  },
  {
   "attachments": {},
   "cell_type": "markdown",
   "metadata": {},
   "source": [
    "## Get featured artists of an album"
   ]
  },
  {
   "cell_type": "code",
   "execution_count": null,
   "metadata": {},
   "outputs": [],
   "source": [
    "def get_featured_artists(song_title):\n",
    "    if \"Ft\" in song_title :\n",
    "        song_title = re.sub(\"\\xa0\", \" \", song_title)\n",
    "        matched = re.findall(r\"\\(Ft\\.\\s*(.*?)\\)\", song_title)\n",
    "        featured_artist = matched[0]\n",
    "    else :\n",
    "        featured_artist = ''\n",
    "    return featured_artist"
   ]
  },
  {
   "cell_type": "code",
   "execution_count": null,
   "metadata": {},
   "outputs": [],
   "source": [
    "def get_featured_artists_in_one_album(album_name, artist) :\n",
    "    song_titles = get_song_titles(album_name, artist)\n",
    "    featured_artists = []\n",
    "    for song_title in song_titles:\n",
    "        featured_artist = get_featured_artists(song_title)\n",
    "        featured_artists.append(featured_artist)\n",
    "\n",
    "    return featured_artists"
   ]
  },
  {
   "attachments": {},
   "cell_type": "markdown",
   "metadata": {},
   "source": [
    "## Get additional information"
   ]
  },
  {
   "cell_type": "code",
   "execution_count": null,
   "metadata": {},
   "outputs": [],
   "source": [
    "def clean_lyrics(lyrics) :\n",
    "    # Remove non-lyric part\n",
    "    lyrics_cleaned = re.search(r'\\sLyrics(.*?)\\d*Embed', lyrics, re.DOTALL).group(1)\n",
    "\n",
    "    # Remove the advertisement\n",
    "    lyrics_clean = re.sub(r\"See.*\\$.*You might also like\", '\\n', lyrics_cleaned)\n",
    "\n",
    "    # Remove the first \"\\n\" if available\n",
    "    if lyrics_clean.startswith(\"\\n\") : \n",
    "        return lyrics_clean.lstrip(\"\\n\")\n",
    "    else :\n",
    "        return lyrics_clean"
   ]
  },
  {
   "attachments": {},
   "cell_type": "markdown",
   "metadata": {},
   "source": [
    "### Get release date, url and cleaned lyrics"
   ]
  },
  {
   "cell_type": "code",
   "execution_count": null,
   "metadata": {},
   "outputs": [],
   "source": [
    "def get_song_information(song_title, artist) :\n",
    "    song_dict = ''\n",
    "    while song_dict == '' :\n",
    "        try :\n",
    "            song_dict = LyricsGenius.search_song(title=song_title, artist=artist, get_full_info=True).to_dict()\n",
    "            break\n",
    "        except TimeoutError as e :\n",
    "            print(e)\n",
    "            print(\"Sleep now... Try connecting again\")\n",
    "            time.sleep(5)\n",
    "\n",
    "    release_year = song_dict[\"release_date_components\"]['year']\n",
    "    release_month = song_dict[\"release_date_components\"]['month']\n",
    "    release_day = song_dict[\"release_date_components\"]['day']\n",
    "\n",
    "    date_string = song_dict[\"release_date_for_display\"]\n",
    "    parsed_date = datetime.strptime(date_string, \"%B %d, %Y\")\n",
    "    release_date = parsed_date.strftime(\"%Y-%m-%d\")\n",
    "\n",
    "    url = song_dict[\"url\"]\n",
    "    song_id = song_dict[\"id\"]\n",
    "    lyrics = song_dict[\"lyrics\"]\n",
    "    return [release_date, release_year, release_month, release_day, url, song_id, clean_lyrics(lyrics)]"
   ]
  },
  {
   "attachments": {},
   "cell_type": "markdown",
   "metadata": {},
   "source": [
    "### Get producers, writers and background vocals"
   ]
  },
  {
   "cell_type": "code",
   "execution_count": null,
   "metadata": {},
   "outputs": [],
   "source": [
    "def get_song_more_information(url_one_song) :\n",
    "    document = ''\n",
    "    while document == '' :\n",
    "        try :\n",
    "            response = requests.get(url_one_song, headers=headers)\n",
    "            html_string = response.text\n",
    "            document = BeautifulSoup(html_string, \"html.parser\")\n",
    "            break\n",
    "        except TimeoutError as e :\n",
    "            print(e)\n",
    "            print(\"Sleep now... Try connecting again\")\n",
    "            time.sleep(5)\n",
    "\n",
    "    song_info_tags = document.find_all(\"div\", attrs={\"class\": \"SongInfo__Credit-nekw6x-3\"})\n",
    "\n",
    "    # Get producers\n",
    "    producers_tag = [tag for tag in song_info_tags if tag.find_all(\"div\", string=\"Produced By\")][0]\n",
    "    producer_names_tag = producers_tag.find_all(\"a\", attrs={\"class\": \"StyledLink-sc-3ea0mt-0\"})\n",
    "    producer_names = [producer.text for producer in producer_names_tag]\n",
    "\n",
    "    # Get writers\n",
    "    writers_tag = [tag for tag in song_info_tags if tag.find_all(\"div\", string=\"Written By\")][0]\n",
    "    writer_names_tag = writers_tag.find_all(\"a\", attrs={\"class\": \"StyledLink-sc-3ea0mt-0\"})\n",
    "    writer_names = [writer.text for writer in writer_names_tag]\n",
    "\n",
    "    # Get background vocals\n",
    "    try :\n",
    "        bg_vocals_tag = [tag for tag in song_info_tags if tag.find_all(\"div\", string=\"Background Vocals\")][0]\n",
    "        bg_vocal_names_tag = bg_vocals_tag.find_all(\"a\", attrs={\"class\": \"StyledLink-sc-3ea0mt-0\"})\n",
    "        bg_vocal_names = [bg_vocal.text for bg_vocal in bg_vocal_names_tag]\n",
    "    except :\n",
    "        bg_vocal_names = ''\n",
    "    return [producer_names, writer_names, bg_vocal_names]"
   ]
  },
  {
   "cell_type": "markdown",
   "metadata": {},
   "source": [
    "### Get song length"
   ]
  },
  {
   "cell_type": "code",
   "execution_count": null,
   "metadata": {},
   "outputs": [],
   "source": [
    "def get_song_length(song_id) :\n",
    "    url = f\"https://genius.com/songs/{song_id}/apple_music_player?react=1\"\n",
    "    document = ''\n",
    "    while document == '' :\n",
    "        try :\n",
    "            response = requests.get(url, headers=headers)\n",
    "            html_string = response.text\n",
    "            document = BeautifulSoup(html_string, \"html.parser\")\n",
    "            break\n",
    "        except TimeoutError as e :\n",
    "            print(e)\n",
    "            print(\"Sleep now... Try connecting again\")\n",
    "            time.sleep(5)\n",
    "            \n",
    "    apple_music_player_tag = document.find(\"apple-music-player\")\n",
    "    attributes = apple_music_player_tag.attrs\n",
    "    track_preview = json.loads(attributes[\"preview_track\"])\n",
    "    \n",
    "    # Get the duration\n",
    "    duration_seconds = floor(track_preview[\"duration\"])\n",
    "    duration_min_sec = f\"{duration_seconds // 60} minutes {duration_seconds % 60} seconds\"\n",
    "    \n",
    "    return [duration_seconds, duration_min_sec]"
   ]
  },
  {
   "attachments": {},
   "cell_type": "markdown",
   "metadata": {},
   "source": [
    "### Combine new informations"
   ]
  },
  {
   "cell_type": "code",
   "execution_count": null,
   "metadata": {},
   "outputs": [],
   "source": [
    "def get_additional_info(clean_songs) :\n",
    "    df_info = pd.DataFrame(columns=['Release Date', 'Release Year', 'Release Month', 'Release Day', 'URL',\n",
    "                                    'Song_ID', 'Lyrics', 'Song Length (sec)', 'Song Length (min)',\n",
    "                                    'Producer(s)', 'Writer(s)', 'Background Vocal(s)'])\n",
    "    for song in clean_songs :\n",
    "        info1 = get_song_information(song, artist) # Release Date - Lyrics\n",
    "        url = info1[4]\n",
    "        song_id = info1[5]\n",
    "        info2 = get_song_length(song_id) # Song Length (sec) - Song Length (min)\n",
    "        info3 = get_song_more_information(url) # Producer(s) - Background Vocal(s)\n",
    "        \n",
    "        new_data = info1 + info2 + info3\n",
    "\n",
    "        df_info.loc[len(df_info)] = new_data\n",
    "\n",
    "    return df_info"
   ]
  },
  {
   "attachments": {},
   "cell_type": "markdown",
   "metadata": {},
   "source": [
    "# Loop all albums"
   ]
  },
  {
   "attachments": {},
   "cell_type": "markdown",
   "metadata": {},
   "source": [
    "## Get all album names"
   ]
  },
  {
   "cell_type": "code",
   "execution_count": null,
   "metadata": {},
   "outputs": [],
   "source": [
    "artist_id = \"1177\" # Artist ID of Taylor Swift\n",
    "\n",
    "all_album_names = []\n",
    "for page in range(1, 10) :\n",
    "    album_list = LyricsGenius.artist_albums(\"1177\", per_page=50, page=page)['albums']\n",
    "    for album_dict in album_list :\n",
    "        all_album_names.append(album_dict['name'])\n",
    "\n",
    "all_album_names"
   ]
  },
  {
   "cell_type": "code",
   "execution_count": null,
   "metadata": {},
   "outputs": [],
   "source": [
    "# Only select relevant albums\n",
    "album_names_used = [\"Taylor Swift\",\n",
    "                    \"Fearless (Taylor's Version)\",\n",
    "                    \"Speak Now (Taylor's Version)\",\n",
    "                    \"Red (Taylor's Version)\",\n",
    "                    \"1989 (Taylor's Version) [Deluxe]\",\n",
    "                    \"reputation\",\n",
    "                    \"Lover\",\n",
    "                    \"folklore (deluxe version)\",\n",
    "                    \"evermore (deluxe version)\",\n",
    "                    \"Midnights (The Til Dawn Edition)\",\n",
    "                    \"Midnights (The Late Night Edition)\", # Get \"You're Losing Me\"\n",
    "                    \"The More Red (Taylor's Version) Chapter\", # Get \"Safe & Sound\" and \"Eyes Open\"\n",
    "                    \"The More Fearless (Taylor's Version) Chapter\", # Get \"If This Was A Movie\"\n",
    "                    \"The More Lover Chapter\", # Get \"All Of The Girls You Loved Before\"\n",
    "                    \"THE TORTURED POETS DEPARTMENT: THE ANTHOLOGY\"\n",
    "                   ]"
   ]
  },
  {
   "cell_type": "code",
   "execution_count": null,
   "metadata": {},
   "outputs": [],
   "source": [
    "def clean_album_name(album) : \n",
    "    album = re.sub(r\"[\\(\\)'\\[\\]\\:]\", \"\", album)\n",
    "    album = re.sub(r\" \", \"-\", album)\n",
    "    return album"
   ]
  },
  {
   "cell_type": "markdown",
   "metadata": {},
   "source": [
    "## Create directory paths"
   ]
  },
  {
   "cell_type": "code",
   "execution_count": null,
   "metadata": {},
   "outputs": [],
   "source": [
    "for album_name in album_names_used : \n",
    "    album = clean_album_name(album_name)\n",
    "    directory_path = f\"{artist}_{album}\"\n",
    "    \n",
    "    if not os.path.exists(directory_path) : \n",
    "        os.makedirs(directory_path)"
   ]
  },
  {
   "cell_type": "markdown",
   "metadata": {},
   "source": [
    "## Create .txt file"
   ]
  },
  {
   "cell_type": "code",
   "execution_count": null,
   "metadata": {},
   "outputs": [],
   "source": [
    "def create_txt_file(album, artist) : \n",
    "    # Get all songs from one album\n",
    "    song_titles = get_song_titles(album, artist)\n",
    "    clean_songs = get_clean_song_titles(song_titles)\n",
    "    album_name = clean_album_name(album)\n",
    "    \n",
    "    for index, song in enumerate(clean_songs) : \n",
    "        file_path = f\"{artist}_{album_name}/{song}\"\n",
    "        song_object = LyricsGenius.search_song(song, artist)\n",
    "        lyrics = song_object.to_dict()[\"lyrics\"]\n",
    "        cleaned_lyrics = clean_lyrics(lyrics)\n",
    "        \n",
    "        if \"\\\"\" in song :\n",
    "            song = re.sub(r\"\\\"\", \"\\'\", song)\n",
    "        \n",
    "        if \"?\" in song : \n",
    "            song = re.sub(r\"\\?\", \"\", song)\n",
    "        \n",
    "        with open(f\"{directory_path}/{index+1}. {song}.txt\", \"w\") as f :\n",
    "            f.write(cleaned_lyrics)\n",
    "            print(f\"Finished writing {song}.txt\\n\")\n",
    "    print(f\"Finished writing all songs in the album {album} into .txt files\")"
   ]
  },
  {
   "cell_type": "code",
   "execution_count": null,
   "metadata": {},
   "outputs": [],
   "source": [
    "# Create .txt files. Please do it separately to avoid Timeout Error!\n",
    "\n",
    "# create_txt_file(\"Taylor Swift\", artist)\n",
    "# create_txt_file(\"Fearless (Taylor's Version)\", artist)\n",
    "# create_txt_file(\"Speak Now (Taylor's Version)\", artist)\n",
    "# create_txt_file(\"Red (Taylor's Version)\", artist)\n",
    "# create_txt_file(\"1989 (Taylor's Version) [Deluxe]\", artist)\n",
    "# create_txt_file(\"reputation\", artist)\n",
    "# create_txt_file(\"Lover\", artist)\n",
    "# create_txt_file(\"folklore (deluxe version)\", artist)\n",
    "# create_txt_file(\"evermore (deluxe version)\", artist)\n",
    "# create_txt_file(\"Midnights (The Til Dawn Edition)\", artist)\n",
    "# create_txt_file(\"Midnights (The Late Night Edition)\", artist)\n",
    "# create_txt_file(\"The More Red (Taylor's Version) Chapter\", artist)\n",
    "# create_txt_file(\"The More Fearless (Taylor's Version) Chapter\", artist)\n",
    "# create_txt_file(\"The More Lover Chapter\", artist)\n",
    "# create_txt_file(\"THE TORTURED POETS DEPARTMENT: THE ANTHOLOGY\", artist)"
   ]
  },
  {
   "cell_type": "markdown",
   "metadata": {},
   "source": [
    "## Create excel files for complete data for each album"
   ]
  },
  {
   "cell_type": "code",
   "execution_count": null,
   "metadata": {},
   "outputs": [],
   "source": [
    "def create_df_one_album(album, artist) :\n",
    "    # Get all songs from one album\n",
    "    song_titles = get_song_titles(album, artist)\n",
    "    clean_songs = get_clean_song_titles(song_titles)\n",
    "    featured_artists = get_featured_artists_in_one_album(album, artist)\n",
    "    track_numbers = create_track_numbers(clean_songs)\n",
    "\n",
    "    df = pd.DataFrame(columns=['Album', 'Song Title', 'Track Number', 'Featured Artist(s)'])\n",
    "    df['Song Title'] = clean_songs\n",
    "    df['Track Number'] = track_numbers\n",
    "    df['Featured Artist(s)'] = featured_artists\n",
    "    df['Album'] = album\n",
    "\n",
    "    # Enrich the information of the songs\n",
    "\n",
    "    df_info = get_additional_info(clean_songs)\n",
    "\n",
    "    if len(df) == len(df_info) :\n",
    "        df_complete = pd.concat([df, df_info], axis=1)\n",
    "    else :\n",
    "        print(f\"The information for the album {album} can't be created. Different lengths of data.\")\n",
    "\n",
    "    return df_complete"
   ]
  },
  {
   "cell_type": "code",
   "execution_count": null,
   "metadata": {},
   "outputs": [],
   "source": [
    "def create_excel_full_data(album, artist) :\n",
    "    album_name = clean_album_name(album)\n",
    "    df_output = create_df_one_album(album, artist)\n",
    "    file_name = f\"{artist}_{album_name}/{album_name}_full_album_info.xlsx\"\n",
    "    \n",
    "    df_output.to_excel(file_name, sheet_name=f\"{album_name[:30]}\", encoding='utf8')\n",
    "    print(f\"Finished writing dataframe for the album {album}\\n\")"
   ]
  },
  {
   "cell_type": "code",
   "execution_count": null,
   "metadata": {},
   "outputs": [],
   "source": [
    "# Create excel for each album. Please do it separately to avoid Timeout Error!\n",
    "\n",
    "# create_excel_full_data(\"Taylor Swift\", artist)\n",
    "# create_excel_full_data(\"Fearless (Taylor's Version)\", artist)\n",
    "# create_excel_full_data(\"Speak Now (Taylor's Version)\", artist)\n",
    "# create_excel_full_data(\"Red (Taylor's Version)\", artist)\n",
    "# create_excel_full_data(\"1989 (Taylor's Version) [Deluxe]\", artist)\n",
    "# create_excel_full_data(\"reputation\", artist)\n",
    "# create_excel_full_data(\"Lover\", artist)\n",
    "# create_excel_full_data(\"folklore (deluxe version)\", artist)\n",
    "# create_excel_full_data(\"evermore (deluxe version)\", artist)\n",
    "# create_excel_full_data(\"Midnights (The Til Dawn Edition)\", artist)\n",
    "# create_excel_full_data(\"Midnights (The Late Night Edition)\", artist)\n",
    "# create_excel_full_data(\"The More Red (Taylor's Version) Chapter\", artist)\n",
    "# create_excel_full_data(\"The More Fearless (Taylor's Version) Chapter\", artist)\n",
    "# create_excel_full_data(\"The More Lover Chapter\", artist)\n",
    "# create_excel_full_data(\"THE TORTURED POETS DEPARTMENT: THE ANTHOLOGY\", artist)"
   ]
  },
  {
   "cell_type": "markdown",
   "metadata": {},
   "source": [
    "## Create the extended dataframe for each album"
   ]
  },
  {
   "cell_type": "markdown",
   "metadata": {},
   "source": [
    "### Separating each line of the lyric into a row"
   ]
  },
  {
   "cell_type": "code",
   "execution_count": null,
   "metadata": {},
   "outputs": [],
   "source": [
    "def create_expanded_dataframe_lyric(album, artist) :\n",
    "    df_original = create_df_one_album(album, artist)\n",
    "    df_output = pd.DataFrame(columns=['Album', 'Song Title', 'Line Number', 'Line'])\n",
    "    for index, row in df_original.iterrows():\n",
    "        album =  row['Album']\n",
    "        song_title = row['Song Title']\n",
    "        lyrics = row['Lyrics'].split(\"\\n\")\n",
    "        lyrics_clean = [line for line in lyrics if len(line)>0]\n",
    "        \n",
    "        for line_number, line in enumerate(lyrics_clean) : \n",
    "            new_row = [album, song_title, line_number+1, line]       \n",
    "            df_output.loc[len(df_output)] = new_row\n",
    "    \n",
    "    return df_output"
   ]
  },
  {
   "cell_type": "code",
   "execution_count": null,
   "metadata": {},
   "outputs": [],
   "source": [
    "def create_excel_expanded_full_data(album, artist) :\n",
    "    album_name = clean_album_name(album)\n",
    "    df_output = create_expanded_dataframe_lyric(album, artist)\n",
    "    file_name = f\"{artist}_{album_name}/{album_name}_expanded_full_album_info.xlsx\"\n",
    "    \n",
    "    df_output.to_excel(file_name, sheet_name=f\"{album_name[:30]}\", encoding='utf8')\n",
    "    print(f\"Finished writing expanded dataframe for the album {album}.\")"
   ]
  },
  {
   "cell_type": "code",
   "execution_count": null,
   "metadata": {},
   "outputs": [],
   "source": [
    "# Create extended dataframe for each album. Please do it separately to avoid Timeout Error!\n",
    "\n",
    "# create_excel_expanded_full_data(\"Taylor Swift\", artist)\n",
    "# create_excel_expanded_full_data(\"Fearless (Taylor's Version)\", artist)\n",
    "# create_excel_expanded_full_data(\"Speak Now (Taylor's Version)\", artist)\n",
    "# create_excel_expanded_full_data(\"Red (Taylor's Version)\", artist)\n",
    "# create_excel_expanded_full_data(\"1989 (Taylor's Version) [Deluxe]\", artist)\n",
    "# create_excel_expanded_full_data(\"reputation\", artist)\n",
    "# create_excel_expanded_full_data(\"Lover\", artist)\n",
    "# create_excel_expanded_full_data(\"folklore (deluxe version)\", artist)\n",
    "# create_excel_expanded_full_data(\"evermore (deluxe version)\", artist)\n",
    "# create_excel_expanded_full_data(\"Midnights (The Til Dawn Edition)\", artist)\n",
    "# create_excel_expanded_full_data(\"Midnights (The Late Night Edition)\", artist)\n",
    "# create_excel_expanded_full_data(\"The More Red (Taylor's Version) Chapter\", artist)\n",
    "# create_excel_expanded_full_data(\"The More Fearless (Taylor's Version) Chapter\", artist)\n",
    "# create_excel_expanded_full_data(\"The More Lover Chapter\", artist)\n",
    "# create_excel_expanded_full_data(\"THE TORTURED POETS DEPARTMENT: THE ANTHOLOGY\", artist)"
   ]
  }
 ],
 "metadata": {
  "associatedRecipe": "compute_test",
  "createdOn": 1712146876869,
  "creationTag": {
   "extendedProperties": {},
   "lastModifiedBy": {
    "login": "KentnardS"
   },
   "lastModifiedOn": 1712146876869,
   "versionNumber": 0
  },
  "creator": "KentnardS",
  "customFields": {},
  "dkuGit": {
   "lastInteraction": 0
  },
  "hide_input": false,
  "kernelspec": {
   "display_name": "base",
   "language": "python",
   "name": "python3"
  },
  "language_info": {
   "codemirror_mode": {
    "name": "ipython",
    "version": 3
   },
   "file_extension": ".py",
   "mimetype": "text/x-python",
   "name": "python",
   "nbconvert_exporter": "python",
   "pygments_lexer": "ipython3",
   "version": "3.9.12"
  },
  "modifiedBy": "KentnardS",
  "tags": [
   "recipe-editor"
  ],
  "toc": {
   "base_numbering": 1,
   "nav_menu": {},
   "number_sections": true,
   "sideBar": true,
   "skip_h1_title": false,
   "title_cell": "Table of Contents",
   "title_sidebar": "Contents",
   "toc_cell": false,
   "toc_position": {},
   "toc_section_display": true,
   "toc_window_display": false
  }
 },
 "nbformat": 4,
 "nbformat_minor": 1
}
